{
  "metadata": {
    "kernelspec": {
      "language": "python",
      "display_name": "Python 3",
      "name": "python3"
    },
    "language_info": {
      "name": "python",
      "version": "3.10.12",
      "mimetype": "text/x-python",
      "codemirror_mode": {
        "name": "ipython",
        "version": 3
      },
      "pygments_lexer": "ipython3",
      "nbconvert_exporter": "python",
      "file_extension": ".py"
    },
    "kaggle": {
      "accelerator": "none",
      "dataSources": [],
      "dockerImageVersionId": 30822,
      "isInternetEnabled": true,
      "language": "python",
      "sourceType": "notebook",
      "isGpuEnabled": false
    },
    "colab": {
      "name": "1_simple_tf_keras_sequential_model",
      "provenance": [],
      "include_colab_link": true
    }
  },
  "nbformat_minor": 0,
  "nbformat": 4,
  "cells": [
    {
      "cell_type": "markdown",
      "metadata": {
        "id": "view-in-github",
        "colab_type": "text"
      },
      "source": [
        "<a href=\"https://colab.research.google.com/github/shekhar-iitg/keras_with_tensorflow_youtube_course/blob/main/0_simple_tf_keras_sequential_model.ipynb\" target=\"_parent\"><img src=\"https://colab.research.google.com/assets/colab-badge.svg\" alt=\"Open In Colab\"/></a>"
      ]
    },
    {
      "cell_type": "code",
      "source": [
        "import numpy as np\n",
        "from random import randint\n",
        "from sklearn.utils import shuffle\n",
        "from sklearn.preprocessing import MinMaxScaler"
      ],
      "metadata": {
        "trusted": true,
        "execution": {
          "iopub.status.busy": "2024-12-25T13:12:55.581566Z",
          "iopub.execute_input": "2024-12-25T13:12:55.58191Z",
          "iopub.status.idle": "2024-12-25T13:12:56.748451Z",
          "shell.execute_reply.started": "2024-12-25T13:12:55.58188Z",
          "shell.execute_reply": "2024-12-25T13:12:56.747358Z"
        },
        "id": "cjo48nwEuwPD"
      },
      "outputs": [],
      "execution_count": 1
    },
    {
      "cell_type": "code",
      "source": [
        "train_samples = []\n",
        "train_labels = []"
      ],
      "metadata": {
        "trusted": true,
        "execution": {
          "iopub.status.busy": "2024-12-25T13:12:56.749779Z",
          "iopub.execute_input": "2024-12-25T13:12:56.750231Z",
          "iopub.status.idle": "2024-12-25T13:12:56.75415Z",
          "shell.execute_reply.started": "2024-12-25T13:12:56.750203Z",
          "shell.execute_reply": "2024-12-25T13:12:56.753135Z"
        },
        "id": "_0ge1KIxuwPE"
      },
      "outputs": [],
      "execution_count": 2
    },
    {
      "cell_type": "markdown",
      "source": [
        "* An experimental drug was tested on a group of people between the age of 13 to 100\n",
        "* Trial had 2100 participants out of which half were below age 65 and half were above age 65\n",
        "* Around 95% of patients 65 or older experienced side-effects\n",
        "* Arount 95% of patients under 65 experienced no side-effects"
      ],
      "metadata": {
        "id": "rL_trGtZuwPE"
      }
    },
    {
      "cell_type": "code",
      "source": [
        "for i in range(50):\n",
        "    random_younger = randint(13, 65)\n",
        "    train_samples.append(random_younger)\n",
        "    train_labels.append(1)\n",
        "    random_older = randint(65, 100)\n",
        "    train_samples.append(random_older)\n",
        "    train_labels.append(0)\n",
        "\n",
        "for i in range(1050):\n",
        "    random_younger = randint(13, 65)\n",
        "    train_samples.append(random_younger)\n",
        "    train_labels.append(0)\n",
        "    random_older = randint(65, 100)\n",
        "    train_samples.append(random_older)\n",
        "    train_labels.append(1)"
      ],
      "metadata": {
        "trusted": true,
        "execution": {
          "iopub.status.busy": "2024-12-25T13:12:56.756405Z",
          "iopub.execute_input": "2024-12-25T13:12:56.756669Z",
          "iopub.status.idle": "2024-12-25T13:12:56.773414Z",
          "shell.execute_reply.started": "2024-12-25T13:12:56.756643Z",
          "shell.execute_reply": "2024-12-25T13:12:56.772417Z"
        },
        "id": "7XM6f3LxuwPE"
      },
      "outputs": [],
      "execution_count": 3
    },
    {
      "cell_type": "code",
      "source": [
        "train_samples = np.array(train_samples)\n",
        "train_labels = np.array(train_labels)"
      ],
      "metadata": {
        "trusted": true,
        "execution": {
          "iopub.status.busy": "2024-12-25T13:12:56.775233Z",
          "iopub.execute_input": "2024-12-25T13:12:56.775511Z",
          "iopub.status.idle": "2024-12-25T13:12:56.789798Z",
          "shell.execute_reply.started": "2024-12-25T13:12:56.775487Z",
          "shell.execute_reply": "2024-12-25T13:12:56.788803Z"
        },
        "id": "D74al2NVuwPF"
      },
      "outputs": [],
      "execution_count": 4
    },
    {
      "cell_type": "code",
      "source": [
        "print(train_samples.shape, train_labels.shape)"
      ],
      "metadata": {
        "trusted": true,
        "execution": {
          "iopub.status.busy": "2024-12-25T13:12:56.790755Z",
          "iopub.execute_input": "2024-12-25T13:12:56.791107Z",
          "iopub.status.idle": "2024-12-25T13:12:56.810239Z",
          "shell.execute_reply.started": "2024-12-25T13:12:56.791053Z",
          "shell.execute_reply": "2024-12-25T13:12:56.809191Z"
        },
        "colab": {
          "base_uri": "https://localhost:8080/"
        },
        "id": "JkqryW3EuwPF",
        "outputId": "02d98111-f50d-4632-a82b-027e018418f2"
      },
      "outputs": [
        {
          "output_type": "stream",
          "name": "stdout",
          "text": [
            "(2200,) (2200,)\n"
          ]
        }
      ],
      "execution_count": 5
    },
    {
      "cell_type": "code",
      "source": [
        "train_samples, train_labels = shuffle(train_samples, train_labels)"
      ],
      "metadata": {
        "trusted": true,
        "execution": {
          "iopub.status.busy": "2024-12-25T13:12:56.811225Z",
          "iopub.execute_input": "2024-12-25T13:12:56.811484Z",
          "iopub.status.idle": "2024-12-25T13:12:56.827172Z",
          "shell.execute_reply.started": "2024-12-25T13:12:56.811461Z",
          "shell.execute_reply": "2024-12-25T13:12:56.82586Z"
        },
        "id": "ScAsbiD1uwPF"
      },
      "outputs": [],
      "execution_count": 6
    },
    {
      "cell_type": "code",
      "source": [
        "scaler = MinMaxScaler((0, 1))\n",
        "scaled_train_samples = scaler.fit_transform(train_samples.reshape(-1, 1))"
      ],
      "metadata": {
        "trusted": true,
        "execution": {
          "iopub.status.busy": "2024-12-25T13:12:56.828226Z",
          "iopub.execute_input": "2024-12-25T13:12:56.8285Z",
          "iopub.status.idle": "2024-12-25T13:12:56.845959Z",
          "shell.execute_reply.started": "2024-12-25T13:12:56.828474Z",
          "shell.execute_reply": "2024-12-25T13:12:56.84518Z"
        },
        "id": "d3U21nyauwPG"
      },
      "outputs": [],
      "execution_count": 7
    },
    {
      "cell_type": "code",
      "source": [
        "print(scaled_train_samples[:5])"
      ],
      "metadata": {
        "trusted": true,
        "execution": {
          "iopub.status.busy": "2024-12-25T13:12:56.846904Z",
          "iopub.execute_input": "2024-12-25T13:12:56.847262Z",
          "iopub.status.idle": "2024-12-25T13:12:56.865904Z",
          "shell.execute_reply.started": "2024-12-25T13:12:56.847228Z",
          "shell.execute_reply": "2024-12-25T13:12:56.864903Z"
        },
        "colab": {
          "base_uri": "https://localhost:8080/"
        },
        "id": "UhSAOeo6uwPG",
        "outputId": "6efe34c2-0eb4-44d5-ebe9-433dc1014c2b"
      },
      "outputs": [
        {
          "output_type": "stream",
          "name": "stdout",
          "text": [
            "[[0.70114943]\n",
            " [0.72413793]\n",
            " [0.27586207]\n",
            " [0.56321839]\n",
            " [0.05747126]]\n"
          ]
        }
      ],
      "execution_count": 8
    },
    {
      "cell_type": "markdown",
      "source": [
        "# Simple tf.Keras Sequential Model"
      ],
      "metadata": {
        "id": "e_TyT160uwPG"
      }
    },
    {
      "cell_type": "code",
      "source": [
        "import tensorflow as tf\n",
        "from keras.models import Sequential\n",
        "from keras.layers import Activation, Dense\n",
        "from keras.optimizers import Adam\n",
        "from keras.metrics import categorical_crossentropy"
      ],
      "metadata": {
        "trusted": true,
        "execution": {
          "iopub.status.busy": "2024-12-25T13:12:56.868655Z",
          "iopub.execute_input": "2024-12-25T13:12:56.868969Z",
          "iopub.status.idle": "2024-12-25T13:13:05.57016Z",
          "shell.execute_reply.started": "2024-12-25T13:12:56.868941Z",
          "shell.execute_reply": "2024-12-25T13:13:05.569217Z"
        },
        "id": "Dwekd-B5uwPH"
      },
      "outputs": [],
      "execution_count": 9
    },
    {
      "cell_type": "code",
      "source": [
        "physical_devices = tf.config.experimental.list_physical_devices('GPU')\n",
        "print(f'No. of GPUs available: {len(physical_devices)}')\n",
        "# tf.config.experimental.set_memory_growth(physical_devices[0], True)?"
      ],
      "metadata": {
        "trusted": true,
        "execution": {
          "iopub.status.busy": "2024-12-25T13:13:05.571489Z",
          "iopub.execute_input": "2024-12-25T13:13:05.57202Z",
          "iopub.status.idle": "2024-12-25T13:13:05.579599Z",
          "shell.execute_reply.started": "2024-12-25T13:13:05.571992Z",
          "shell.execute_reply": "2024-12-25T13:13:05.578427Z"
        },
        "colab": {
          "base_uri": "https://localhost:8080/"
        },
        "id": "VLGg8S69uwPH",
        "outputId": "16e4b01b-78ec-4052-94ee-0b7fe704fc6c"
      },
      "outputs": [
        {
          "output_type": "stream",
          "name": "stdout",
          "text": [
            "No. of GPUs available: 0\n"
          ]
        }
      ],
      "execution_count": 10
    },
    {
      "cell_type": "code",
      "source": [
        "model = Sequential([\n",
        "    Dense(units = 16, input_shape = (1, ), activation = 'relu'),\n",
        "    Dense(units = 32, activation = 'relu'),\n",
        "    Dense(units = 2, activation = 'softmax')\n",
        "])"
      ],
      "metadata": {
        "trusted": true,
        "execution": {
          "iopub.status.busy": "2024-12-25T13:13:05.58053Z",
          "iopub.execute_input": "2024-12-25T13:13:05.580837Z",
          "iopub.status.idle": "2024-12-25T13:13:05.676947Z",
          "shell.execute_reply.started": "2024-12-25T13:13:05.580812Z",
          "shell.execute_reply": "2024-12-25T13:13:05.675836Z"
        },
        "colab": {
          "base_uri": "https://localhost:8080/"
        },
        "id": "wCpz2qzzuwPI",
        "outputId": "36f8a6b9-ec2e-4675-9048-2ada7cdd3aac"
      },
      "outputs": [
        {
          "output_type": "stream",
          "name": "stderr",
          "text": [
            "/usr/local/lib/python3.11/dist-packages/keras/src/layers/core/dense.py:87: UserWarning: Do not pass an `input_shape`/`input_dim` argument to a layer. When using Sequential models, prefer using an `Input(shape)` object as the first layer in the model instead.\n",
            "  super().__init__(activity_regularizer=activity_regularizer, **kwargs)\n"
          ]
        }
      ],
      "execution_count": 11
    },
    {
      "cell_type": "code",
      "source": [
        "model.summary()"
      ],
      "metadata": {
        "trusted": true,
        "execution": {
          "iopub.status.busy": "2024-12-25T13:13:05.677899Z",
          "iopub.execute_input": "2024-12-25T13:13:05.678212Z",
          "iopub.status.idle": "2024-12-25T13:13:05.696053Z",
          "shell.execute_reply.started": "2024-12-25T13:13:05.678188Z",
          "shell.execute_reply": "2024-12-25T13:13:05.695156Z"
        },
        "colab": {
          "base_uri": "https://localhost:8080/",
          "height": 238
        },
        "id": "-0XE1h4GuwPI",
        "outputId": "ed42feea-937d-4101-dba4-bdad88937b3e"
      },
      "outputs": [
        {
          "output_type": "display_data",
          "data": {
            "text/plain": [
              "\u001b[1mModel: \"sequential\"\u001b[0m\n"
            ],
            "text/html": [
              "<pre style=\"white-space:pre;overflow-x:auto;line-height:normal;font-family:Menlo,'DejaVu Sans Mono',consolas,'Courier New',monospace\"><span style=\"font-weight: bold\">Model: \"sequential\"</span>\n",
              "</pre>\n"
            ]
          },
          "metadata": {}
        },
        {
          "output_type": "display_data",
          "data": {
            "text/plain": [
              "┏━━━━━━━━━━━━━━━━━━━━━━━━━━━━━━━━━━━━━━┳━━━━━━━━━━━━━━━━━━━━━━━━━━━━━┳━━━━━━━━━━━━━━━━━┓\n",
              "┃\u001b[1m \u001b[0m\u001b[1mLayer (type)                        \u001b[0m\u001b[1m \u001b[0m┃\u001b[1m \u001b[0m\u001b[1mOutput Shape               \u001b[0m\u001b[1m \u001b[0m┃\u001b[1m \u001b[0m\u001b[1m        Param #\u001b[0m\u001b[1m \u001b[0m┃\n",
              "┡━━━━━━━━━━━━━━━━━━━━━━━━━━━━━━━━━━━━━━╇━━━━━━━━━━━━━━━━━━━━━━━━━━━━━╇━━━━━━━━━━━━━━━━━┩\n",
              "│ dense (\u001b[38;5;33mDense\u001b[0m)                        │ (\u001b[38;5;45mNone\u001b[0m, \u001b[38;5;34m16\u001b[0m)                  │              \u001b[38;5;34m32\u001b[0m │\n",
              "├──────────────────────────────────────┼─────────────────────────────┼─────────────────┤\n",
              "│ dense_1 (\u001b[38;5;33mDense\u001b[0m)                      │ (\u001b[38;5;45mNone\u001b[0m, \u001b[38;5;34m32\u001b[0m)                  │             \u001b[38;5;34m544\u001b[0m │\n",
              "├──────────────────────────────────────┼─────────────────────────────┼─────────────────┤\n",
              "│ dense_2 (\u001b[38;5;33mDense\u001b[0m)                      │ (\u001b[38;5;45mNone\u001b[0m, \u001b[38;5;34m2\u001b[0m)                   │              \u001b[38;5;34m66\u001b[0m │\n",
              "└──────────────────────────────────────┴─────────────────────────────┴─────────────────┘\n"
            ],
            "text/html": [
              "<pre style=\"white-space:pre;overflow-x:auto;line-height:normal;font-family:Menlo,'DejaVu Sans Mono',consolas,'Courier New',monospace\">┏━━━━━━━━━━━━━━━━━━━━━━━━━━━━━━━━━━━━━━┳━━━━━━━━━━━━━━━━━━━━━━━━━━━━━┳━━━━━━━━━━━━━━━━━┓\n",
              "┃<span style=\"font-weight: bold\"> Layer (type)                         </span>┃<span style=\"font-weight: bold\"> Output Shape                </span>┃<span style=\"font-weight: bold\">         Param # </span>┃\n",
              "┡━━━━━━━━━━━━━━━━━━━━━━━━━━━━━━━━━━━━━━╇━━━━━━━━━━━━━━━━━━━━━━━━━━━━━╇━━━━━━━━━━━━━━━━━┩\n",
              "│ dense (<span style=\"color: #0087ff; text-decoration-color: #0087ff\">Dense</span>)                        │ (<span style=\"color: #00d7ff; text-decoration-color: #00d7ff\">None</span>, <span style=\"color: #00af00; text-decoration-color: #00af00\">16</span>)                  │              <span style=\"color: #00af00; text-decoration-color: #00af00\">32</span> │\n",
              "├──────────────────────────────────────┼─────────────────────────────┼─────────────────┤\n",
              "│ dense_1 (<span style=\"color: #0087ff; text-decoration-color: #0087ff\">Dense</span>)                      │ (<span style=\"color: #00d7ff; text-decoration-color: #00d7ff\">None</span>, <span style=\"color: #00af00; text-decoration-color: #00af00\">32</span>)                  │             <span style=\"color: #00af00; text-decoration-color: #00af00\">544</span> │\n",
              "├──────────────────────────────────────┼─────────────────────────────┼─────────────────┤\n",
              "│ dense_2 (<span style=\"color: #0087ff; text-decoration-color: #0087ff\">Dense</span>)                      │ (<span style=\"color: #00d7ff; text-decoration-color: #00d7ff\">None</span>, <span style=\"color: #00af00; text-decoration-color: #00af00\">2</span>)                   │              <span style=\"color: #00af00; text-decoration-color: #00af00\">66</span> │\n",
              "└──────────────────────────────────────┴─────────────────────────────┴─────────────────┘\n",
              "</pre>\n"
            ]
          },
          "metadata": {}
        },
        {
          "output_type": "display_data",
          "data": {
            "text/plain": [
              "\u001b[1m Total params: \u001b[0m\u001b[38;5;34m642\u001b[0m (2.51 KB)\n"
            ],
            "text/html": [
              "<pre style=\"white-space:pre;overflow-x:auto;line-height:normal;font-family:Menlo,'DejaVu Sans Mono',consolas,'Courier New',monospace\"><span style=\"font-weight: bold\"> Total params: </span><span style=\"color: #00af00; text-decoration-color: #00af00\">642</span> (2.51 KB)\n",
              "</pre>\n"
            ]
          },
          "metadata": {}
        },
        {
          "output_type": "display_data",
          "data": {
            "text/plain": [
              "\u001b[1m Trainable params: \u001b[0m\u001b[38;5;34m642\u001b[0m (2.51 KB)\n"
            ],
            "text/html": [
              "<pre style=\"white-space:pre;overflow-x:auto;line-height:normal;font-family:Menlo,'DejaVu Sans Mono',consolas,'Courier New',monospace\"><span style=\"font-weight: bold\"> Trainable params: </span><span style=\"color: #00af00; text-decoration-color: #00af00\">642</span> (2.51 KB)\n",
              "</pre>\n"
            ]
          },
          "metadata": {}
        },
        {
          "output_type": "display_data",
          "data": {
            "text/plain": [
              "\u001b[1m Non-trainable params: \u001b[0m\u001b[38;5;34m0\u001b[0m (0.00 B)\n"
            ],
            "text/html": [
              "<pre style=\"white-space:pre;overflow-x:auto;line-height:normal;font-family:Menlo,'DejaVu Sans Mono',consolas,'Courier New',monospace\"><span style=\"font-weight: bold\"> Non-trainable params: </span><span style=\"color: #00af00; text-decoration-color: #00af00\">0</span> (0.00 B)\n",
              "</pre>\n"
            ]
          },
          "metadata": {}
        }
      ],
      "execution_count": 12
    },
    {
      "cell_type": "code",
      "source": [
        "model.compile(optimizer = Adam(learning_rate = 1e-4), loss = 'sparse_categorical_crossentropy', metrics = ['accuracy'])\n",
        "# model.fit(x = scaled_train_samples, y = train_labels, batch_size = 10, epochs = 30, shuffle = True, verbose = 2)"
      ],
      "metadata": {
        "trusted": true,
        "execution": {
          "iopub.status.busy": "2024-12-25T13:13:05.696887Z",
          "iopub.execute_input": "2024-12-25T13:13:05.697269Z",
          "iopub.status.idle": "2024-12-25T13:13:05.717141Z",
          "shell.execute_reply.started": "2024-12-25T13:13:05.697242Z",
          "shell.execute_reply": "2024-12-25T13:13:05.716011Z"
        },
        "id": "-fersaqLuwPI"
      },
      "outputs": [],
      "execution_count": 13
    },
    {
      "cell_type": "markdown",
      "source": [
        "* NOTE: Shuffle = True shuffles the training data set after removing the validation set if we set\n",
        "the parameter validation_set to some x percent. That is why we need to shuffle the training set before passing it to model.fit()"
      ],
      "metadata": {
        "id": "6Oh8SoQ0uwPI"
      }
    },
    {
      "cell_type": "code",
      "source": [
        "model.fit(x = scaled_train_samples, y = train_labels, validation_split = 0.1, batch_size = 10, epochs = 30, shuffle = True, verbose = 2)"
      ],
      "metadata": {
        "trusted": true,
        "execution": {
          "iopub.status.busy": "2024-12-25T13:13:05.718168Z",
          "iopub.execute_input": "2024-12-25T13:13:05.718422Z",
          "iopub.status.idle": "2024-12-25T13:13:14.910059Z",
          "shell.execute_reply.started": "2024-12-25T13:13:05.7184Z",
          "shell.execute_reply": "2024-12-25T13:13:14.909207Z"
        },
        "colab": {
          "base_uri": "https://localhost:8080/"
        },
        "id": "D0qBrC7tuwPI",
        "outputId": "7e3afedd-e7b2-4f19-e4ee-99702dd887cb"
      },
      "outputs": [
        {
          "output_type": "stream",
          "name": "stdout",
          "text": [
            "Epoch 1/30\n",
            "198/198 - 4s - 22ms/step - accuracy: 0.5985 - loss: 0.6706 - val_accuracy: 0.6318 - val_loss: 0.6628\n",
            "Epoch 2/30\n",
            "198/198 - 1s - 6ms/step - accuracy: 0.7202 - loss: 0.6434 - val_accuracy: 0.7455 - val_loss: 0.6348\n",
            "Epoch 3/30\n",
            "198/198 - 1s - 7ms/step - accuracy: 0.7833 - loss: 0.6119 - val_accuracy: 0.8136 - val_loss: 0.6048\n",
            "Epoch 4/30\n",
            "198/198 - 2s - 10ms/step - accuracy: 0.8106 - loss: 0.5810 - val_accuracy: 0.8273 - val_loss: 0.5738\n",
            "Epoch 5/30\n",
            "198/198 - 0s - 2ms/step - accuracy: 0.8475 - loss: 0.5488 - val_accuracy: 0.8455 - val_loss: 0.5422\n",
            "Epoch 6/30\n",
            "198/198 - 1s - 3ms/step - accuracy: 0.8545 - loss: 0.5174 - val_accuracy: 0.8727 - val_loss: 0.5105\n",
            "Epoch 7/30\n",
            "198/198 - 1s - 3ms/step - accuracy: 0.8712 - loss: 0.4863 - val_accuracy: 0.8727 - val_loss: 0.4791\n",
            "Epoch 8/30\n",
            "198/198 - 1s - 4ms/step - accuracy: 0.8843 - loss: 0.4565 - val_accuracy: 0.8773 - val_loss: 0.4488\n",
            "Epoch 9/30\n",
            "198/198 - 1s - 3ms/step - accuracy: 0.8904 - loss: 0.4283 - val_accuracy: 0.8955 - val_loss: 0.4210\n",
            "Epoch 10/30\n",
            "198/198 - 0s - 2ms/step - accuracy: 0.8980 - loss: 0.4024 - val_accuracy: 0.9091 - val_loss: 0.3954\n",
            "Epoch 11/30\n",
            "198/198 - 0s - 2ms/step - accuracy: 0.9010 - loss: 0.3797 - val_accuracy: 0.9182 - val_loss: 0.3731\n",
            "Epoch 12/30\n",
            "198/198 - 1s - 3ms/step - accuracy: 0.9071 - loss: 0.3602 - val_accuracy: 0.9182 - val_loss: 0.3544\n",
            "Epoch 13/30\n",
            "198/198 - 0s - 2ms/step - accuracy: 0.9035 - loss: 0.3440 - val_accuracy: 0.9273 - val_loss: 0.3383\n",
            "Epoch 14/30\n",
            "198/198 - 1s - 3ms/step - accuracy: 0.9126 - loss: 0.3306 - val_accuracy: 0.9273 - val_loss: 0.3247\n",
            "Epoch 15/30\n",
            "198/198 - 1s - 3ms/step - accuracy: 0.9116 - loss: 0.3192 - val_accuracy: 0.9364 - val_loss: 0.3137\n",
            "Epoch 16/30\n",
            "198/198 - 1s - 3ms/step - accuracy: 0.9177 - loss: 0.3101 - val_accuracy: 0.9273 - val_loss: 0.3041\n",
            "Epoch 17/30\n",
            "198/198 - 1s - 3ms/step - accuracy: 0.9157 - loss: 0.3022 - val_accuracy: 0.9273 - val_loss: 0.2962\n",
            "Epoch 18/30\n",
            "198/198 - 0s - 2ms/step - accuracy: 0.9167 - loss: 0.2959 - val_accuracy: 0.9364 - val_loss: 0.2894\n",
            "Epoch 19/30\n",
            "198/198 - 1s - 3ms/step - accuracy: 0.9167 - loss: 0.2905 - val_accuracy: 0.9364 - val_loss: 0.2838\n",
            "Epoch 20/30\n",
            "198/198 - 0s - 2ms/step - accuracy: 0.9202 - loss: 0.2860 - val_accuracy: 0.9364 - val_loss: 0.2790\n",
            "Epoch 21/30\n",
            "198/198 - 0s - 2ms/step - accuracy: 0.9232 - loss: 0.2819 - val_accuracy: 0.9364 - val_loss: 0.2746\n",
            "Epoch 22/30\n",
            "198/198 - 1s - 3ms/step - accuracy: 0.9187 - loss: 0.2790 - val_accuracy: 0.9409 - val_loss: 0.2712\n",
            "Epoch 23/30\n",
            "198/198 - 1s - 7ms/step - accuracy: 0.9222 - loss: 0.2761 - val_accuracy: 0.9364 - val_loss: 0.2678\n",
            "Epoch 24/30\n",
            "198/198 - 1s - 5ms/step - accuracy: 0.9187 - loss: 0.2735 - val_accuracy: 0.9409 - val_loss: 0.2653\n",
            "Epoch 25/30\n",
            "198/198 - 1s - 3ms/step - accuracy: 0.9237 - loss: 0.2713 - val_accuracy: 0.9364 - val_loss: 0.2625\n",
            "Epoch 26/30\n",
            "198/198 - 1s - 3ms/step - accuracy: 0.9217 - loss: 0.2696 - val_accuracy: 0.9364 - val_loss: 0.2602\n",
            "Epoch 27/30\n",
            "198/198 - 0s - 2ms/step - accuracy: 0.9217 - loss: 0.2678 - val_accuracy: 0.9455 - val_loss: 0.2592\n",
            "Epoch 28/30\n",
            "198/198 - 0s - 2ms/step - accuracy: 0.9217 - loss: 0.2663 - val_accuracy: 0.9409 - val_loss: 0.2567\n",
            "Epoch 29/30\n",
            "198/198 - 1s - 3ms/step - accuracy: 0.9247 - loss: 0.2651 - val_accuracy: 0.9409 - val_loss: 0.2548\n",
            "Epoch 30/30\n",
            "198/198 - 0s - 2ms/step - accuracy: 0.9207 - loss: 0.2636 - val_accuracy: 0.9409 - val_loss: 0.2539\n"
          ]
        },
        {
          "output_type": "execute_result",
          "data": {
            "text/plain": [
              "<keras.src.callbacks.history.History at 0x7b81e3d64b90>"
            ]
          },
          "metadata": {},
          "execution_count": 14
        }
      ],
      "execution_count": 14
    },
    {
      "cell_type": "markdown",
      "source": [
        "# Creating Test Data"
      ],
      "metadata": {
        "id": "h3slpxIeuwPI"
      }
    },
    {
      "cell_type": "code",
      "source": [
        "test_samples = []\n",
        "test_labels = []"
      ],
      "metadata": {
        "trusted": true,
        "execution": {
          "iopub.status.busy": "2024-12-25T13:13:14.910944Z",
          "iopub.execute_input": "2024-12-25T13:13:14.911285Z",
          "iopub.status.idle": "2024-12-25T13:13:14.915Z",
          "shell.execute_reply.started": "2024-12-25T13:13:14.911249Z",
          "shell.execute_reply": "2024-12-25T13:13:14.913944Z"
        },
        "id": "JmoTo1vAuwPI"
      },
      "outputs": [],
      "execution_count": 15
    },
    {
      "cell_type": "code",
      "source": [
        "for i in range(10):\n",
        "    random_younger = randint(13, 64)\n",
        "    test_samples.append(random_younger)\n",
        "    test_labels.append(1)\n",
        "    random_older = randint(65, 100)\n",
        "    test_samples.append(random_older)\n",
        "    test_labels.append(0)\n",
        "\n",
        "for i in range(200):\n",
        "    random_younger = randint(13, 64)\n",
        "    test_samples.append(random_younger)\n",
        "    test_labels.append(0)\n",
        "    random_older = randint(65, 100)\n",
        "    test_samples.append(random_older)\n",
        "    test_labels.append(1)"
      ],
      "metadata": {
        "trusted": true,
        "execution": {
          "iopub.status.busy": "2024-12-25T13:13:14.916024Z",
          "iopub.execute_input": "2024-12-25T13:13:14.91639Z",
          "iopub.status.idle": "2024-12-25T13:13:14.934692Z",
          "shell.execute_reply.started": "2024-12-25T13:13:14.916355Z",
          "shell.execute_reply": "2024-12-25T13:13:14.933533Z"
        },
        "id": "0AuUbhqFuwPI"
      },
      "outputs": [],
      "execution_count": 16
    },
    {
      "cell_type": "code",
      "source": [
        "test_samples = np.array(test_samples)\n",
        "test_labels = np.array(test_labels)\n",
        "\n",
        "test_samples, test_labels = shuffle(test_samples, test_labels)"
      ],
      "metadata": {
        "trusted": true,
        "execution": {
          "iopub.status.busy": "2024-12-25T13:13:14.935671Z",
          "iopub.execute_input": "2024-12-25T13:13:14.935996Z",
          "iopub.status.idle": "2024-12-25T13:13:14.951709Z",
          "shell.execute_reply.started": "2024-12-25T13:13:14.935957Z",
          "shell.execute_reply": "2024-12-25T13:13:14.950758Z"
        },
        "id": "nqFnXBUkuwPJ"
      },
      "outputs": [],
      "execution_count": 17
    },
    {
      "cell_type": "code",
      "source": [
        "scaled_test_samples = scaler.fit_transform(test_samples.reshape(-1, 1))"
      ],
      "metadata": {
        "trusted": true,
        "execution": {
          "iopub.status.busy": "2024-12-25T13:13:14.952641Z",
          "iopub.execute_input": "2024-12-25T13:13:14.952967Z",
          "iopub.status.idle": "2024-12-25T13:13:14.968517Z",
          "shell.execute_reply.started": "2024-12-25T13:13:14.952926Z",
          "shell.execute_reply": "2024-12-25T13:13:14.967446Z"
        },
        "id": "_s7gZZEGuwPJ"
      },
      "outputs": [],
      "execution_count": 18
    },
    {
      "cell_type": "markdown",
      "source": [
        "# Prediction"
      ],
      "metadata": {
        "id": "suzb82fDuwPJ"
      }
    },
    {
      "cell_type": "code",
      "source": [
        "predictions = model.predict(x = scaled_test_samples, batch_size = 10, verbose = 0)"
      ],
      "metadata": {
        "trusted": true,
        "execution": {
          "iopub.status.busy": "2024-12-25T13:13:14.969571Z",
          "iopub.execute_input": "2024-12-25T13:13:14.969906Z",
          "iopub.status.idle": "2024-12-25T13:13:15.143485Z",
          "shell.execute_reply.started": "2024-12-25T13:13:14.96988Z",
          "shell.execute_reply": "2024-12-25T13:13:15.142539Z"
        },
        "id": "aejAXrnXuwPJ"
      },
      "outputs": [],
      "execution_count": 19
    },
    {
      "cell_type": "code",
      "source": [
        "print(predictions[:5])"
      ],
      "metadata": {
        "trusted": true,
        "execution": {
          "iopub.status.busy": "2024-12-25T13:13:15.144531Z",
          "iopub.execute_input": "2024-12-25T13:13:15.144847Z",
          "iopub.status.idle": "2024-12-25T13:13:15.150102Z",
          "shell.execute_reply.started": "2024-12-25T13:13:15.144811Z",
          "shell.execute_reply": "2024-12-25T13:13:15.149101Z"
        },
        "colab": {
          "base_uri": "https://localhost:8080/"
        },
        "id": "UV-c8c6ruwPJ",
        "outputId": "8e62a1da-0f10-466c-c1b8-0f58201df323"
      },
      "outputs": [
        {
          "output_type": "stream",
          "name": "stdout",
          "text": [
            "[[0.05586933 0.94413066]\n",
            " [0.9785185  0.02148153]\n",
            " [0.25967446 0.7403255 ]\n",
            " [0.9381266  0.06187337]\n",
            " [0.05586933 0.94413066]]\n"
          ]
        }
      ],
      "execution_count": 20
    },
    {
      "cell_type": "code",
      "source": [
        "prediction_labels = np.argmax(predictions, axis = 1)"
      ],
      "metadata": {
        "trusted": true,
        "execution": {
          "iopub.status.busy": "2024-12-25T13:13:15.151005Z",
          "iopub.execute_input": "2024-12-25T13:13:15.151375Z",
          "iopub.status.idle": "2024-12-25T13:13:15.166554Z",
          "shell.execute_reply.started": "2024-12-25T13:13:15.151337Z",
          "shell.execute_reply": "2024-12-25T13:13:15.165589Z"
        },
        "id": "jlUi0RS8uwPJ"
      },
      "outputs": [],
      "execution_count": 21
    },
    {
      "cell_type": "code",
      "source": [
        "print(prediction_labels[:5])"
      ],
      "metadata": {
        "trusted": true,
        "execution": {
          "iopub.status.busy": "2024-12-25T13:13:15.167595Z",
          "iopub.execute_input": "2024-12-25T13:13:15.167959Z",
          "iopub.status.idle": "2024-12-25T13:13:15.185878Z",
          "shell.execute_reply.started": "2024-12-25T13:13:15.167921Z",
          "shell.execute_reply": "2024-12-25T13:13:15.184804Z"
        },
        "colab": {
          "base_uri": "https://localhost:8080/"
        },
        "id": "oQw3zCUOuwPJ",
        "outputId": "8e53d6de-6ddb-4497-d911-104e4296f19e"
      },
      "outputs": [
        {
          "output_type": "stream",
          "name": "stdout",
          "text": [
            "[1 0 1 0 1]\n"
          ]
        }
      ],
      "execution_count": 22
    },
    {
      "cell_type": "markdown",
      "source": [
        "# Confusion Matrix"
      ],
      "metadata": {
        "id": "QANYVaD5uwPJ"
      }
    },
    {
      "cell_type": "code",
      "source": [
        "%matplotlib inline\n",
        "from sklearn.metrics import confusion_matrix\n",
        "import itertools\n",
        "import matplotlib.pyplot as plt"
      ],
      "metadata": {
        "trusted": true,
        "execution": {
          "iopub.status.busy": "2024-12-25T13:20:01.320323Z",
          "iopub.execute_input": "2024-12-25T13:20:01.32067Z",
          "iopub.status.idle": "2024-12-25T13:20:01.426183Z",
          "shell.execute_reply.started": "2024-12-25T13:20:01.32064Z",
          "shell.execute_reply": "2024-12-25T13:20:01.425288Z"
        },
        "id": "Pk8JSvXIuwPJ"
      },
      "outputs": [],
      "execution_count": 23
    },
    {
      "cell_type": "code",
      "source": [
        "cm = confusion_matrix(y_true = test_labels, y_pred = prediction_labels)"
      ],
      "metadata": {
        "trusted": true,
        "execution": {
          "iopub.status.busy": "2024-12-25T13:21:49.77381Z",
          "iopub.execute_input": "2024-12-25T13:21:49.774176Z",
          "iopub.status.idle": "2024-12-25T13:21:49.780939Z",
          "shell.execute_reply.started": "2024-12-25T13:21:49.774149Z",
          "shell.execute_reply": "2024-12-25T13:21:49.779985Z"
        },
        "id": "rXqVCtliuwPK"
      },
      "outputs": [],
      "execution_count": 24
    },
    {
      "cell_type": "code",
      "source": [
        "def plot_confusion_matrix(cm, classes, normalize = False, title = 'Confusion Matrix', cmap = plt.cm.Blues):\n",
        "    \"\"\"\n",
        "    This function prints and plots the confusion matrix\n",
        "    Normalization can be applied by setting normalize = True\n",
        "    \"\"\"\n",
        "    plt.imshow(cm, interpolation = 'nearest', cmap = cmap)\n",
        "    plt.title(title)\n",
        "    plt.colorbar()\n",
        "    tick_marks = np.arange(len(classes))\n",
        "    plt.xticks(tick_marks, classes, rotation = 45)\n",
        "\n",
        "    if normalize:\n",
        "        cm = cm.astype('float') / cm.sum(axis = 1)[:, np.newaxis]\n",
        "        print('Normalized Confusion Matrix')\n",
        "    else:\n",
        "        print('Confusion Matrix, without normalization')\n",
        "\n",
        "    print(cm)\n",
        "\n",
        "    thres = cm.max() / 2\n",
        "    for i, j in itertools.product(range(cm.shape[0]), range(cm.shape[1])):\n",
        "        plt.text(j, i, cm[i, j],\n",
        "                horizontalalignment = 'center',\n",
        "                color = 'white' if cm[i, j] > thres else 'black'\n",
        "                )\n",
        "    plt.tight_layout()\n",
        "    plt.ylabel('True Label')\n",
        "    plt.xlabel('Predicted Label')"
      ],
      "metadata": {
        "trusted": true,
        "execution": {
          "iopub.status.busy": "2024-12-25T13:35:32.422415Z",
          "iopub.execute_input": "2024-12-25T13:35:32.422773Z",
          "iopub.status.idle": "2024-12-25T13:35:32.430234Z",
          "shell.execute_reply.started": "2024-12-25T13:35:32.422746Z",
          "shell.execute_reply": "2024-12-25T13:35:32.42905Z"
        },
        "id": "ghCeY2ZYuwPK"
      },
      "outputs": [],
      "execution_count": 25
    },
    {
      "cell_type": "code",
      "source": [
        "cm_plot_labels = ['no_side_effects', 'had_side_effects']\n",
        "plot_confusion_matrix(cm = cm, classes = cm_plot_labels)"
      ],
      "metadata": {
        "trusted": true,
        "execution": {
          "iopub.status.busy": "2024-12-25T13:36:58.134816Z",
          "iopub.execute_input": "2024-12-25T13:36:58.135234Z",
          "iopub.status.idle": "2024-12-25T13:36:58.603487Z",
          "shell.execute_reply.started": "2024-12-25T13:36:58.135202Z",
          "shell.execute_reply": "2024-12-25T13:36:58.602469Z"
        },
        "colab": {
          "base_uri": "https://localhost:8080/",
          "height": 561
        },
        "id": "_sX0VIppuwPK",
        "outputId": "e9408368-c5f9-4fc7-974f-ebc7831899a4"
      },
      "outputs": [
        {
          "output_type": "stream",
          "name": "stdout",
          "text": [
            "Confusion Matrix, without normalization\n",
            "[[191  19]\n",
            " [ 10 200]]\n"
          ]
        },
        {
          "output_type": "display_data",
          "data": {
            "text/plain": [
              "<Figure size 640x480 with 2 Axes>"
            ],
            "image/png": "[encoded data removed]"
          },
          "metadata": {}
        }
      ],
      "execution_count": 26
    },
    {
      "cell_type": "markdown",
      "source": [
        "# Save and load a model"
      ],
      "metadata": {
        "id": "zsNpSwtguwPK"
      }
    },
    {
      "cell_type": "markdown",
      "source": [
        "## 1. model.save()"
      ],
      "metadata": {
        "id": "ZGehCZoOuwPK"
      }
    },
    {
      "cell_type": "code",
      "source": [
        "import os.path\n",
        "if os.path.isfile('models/medical_trial_model.h5') is False:\n",
        "    model.save('models/medical_trial_model.h5')"
      ],
      "metadata": {
        "trusted": true,
        "execution": {
          "iopub.status.busy": "2024-12-25T13:55:45.921257Z",
          "iopub.execute_input": "2024-12-25T13:55:45.921594Z",
          "iopub.status.idle": "2024-12-25T13:55:45.962467Z",
          "shell.execute_reply.started": "2024-12-25T13:55:45.921566Z",
          "shell.execute_reply": "2024-12-25T13:55:45.961498Z"
        },
        "id": "_dKeC6JGuwPK"
      },
      "outputs": [],
      "execution_count": 27
    },
    {
      "cell_type": "markdown",
      "source": [
        "This save function saves:\n",
        "* The architecture of the model, allowing to re-create the model\n",
        "* The weights of the model\n",
        "* The training configuration (loss, optmizer)\n",
        "* The state of the optimizer, allowing to resume training from where we left off"
      ],
      "metadata": {
        "id": "ZsjWIQ4WuwPK"
      }
    },
    {
      "cell_type": "code",
      "source": [
        "from tensorflow.keras.models import load_model\n",
        "new_model = load_model('models/medical_trial_model.h5')"
      ],
      "metadata": {
        "trusted": true,
        "execution": {
          "iopub.status.busy": "2024-12-25T13:59:06.323121Z",
          "iopub.execute_input": "2024-12-25T13:59:06.323473Z",
          "iopub.status.idle": "2024-12-25T13:59:06.373985Z",
          "shell.execute_reply.started": "2024-12-25T13:59:06.323441Z",
          "shell.execute_reply": "2024-12-25T13:59:06.373118Z"
        },
        "colab": {
          "base_uri": "https://localhost:8080/"
        },
        "id": "Aos7RlrsuwPK",
        "outputId": "c79c3621-1e65-4987-b7c4-279bc4b1705b"
      },
      "outputs": [
        {
          "output_type": "stream",
          "name": "stderr",
          "text": [
            "WARNING:absl:Compiled the loaded model, but the compiled metrics have yet to be built. `model.compile_metrics` will be empty until you train or evaluate the model.\n"
          ]
        }
      ],
      "execution_count": 28
    },
    {
      "cell_type": "code",
      "source": [
        "new_model.summary()"
      ],
      "metadata": {
        "trusted": true,
        "execution": {
          "iopub.status.busy": "2024-12-25T13:59:14.128862Z",
          "iopub.execute_input": "2024-12-25T13:59:14.129247Z",
          "iopub.status.idle": "2024-12-25T13:59:14.147415Z",
          "shell.execute_reply.started": "2024-12-25T13:59:14.129212Z",
          "shell.execute_reply": "2024-12-25T13:59:14.146425Z"
        },
        "colab": {
          "base_uri": "https://localhost:8080/",
          "height": 255
        },
        "id": "KDZrgYmBuwPK",
        "outputId": "4bb4aebb-76e7-4a23-acab-aeac24f3518d"
      },
      "outputs": [
        {
          "output_type": "display_data",
          "data": {
            "text/plain": [
              "\u001b[1mModel: \"sequential\"\u001b[0m\n"
            ],
            "text/html": [
              "<pre style=\"white-space:pre;overflow-x:auto;line-height:normal;font-family:Menlo,'DejaVu Sans Mono',consolas,'Courier New',monospace\"><span style=\"font-weight: bold\">Model: \"sequential\"</span>\n",
              "</pre>\n"
            ]
          },
          "metadata": {}
        },
        {
          "output_type": "display_data",
          "data": {
            "text/plain": [
              "┏━━━━━━━━━━━━━━━━━━━━━━━━━━━━━━━━━━━━━━┳━━━━━━━━━━━━━━━━━━━━━━━━━━━━━┳━━━━━━━━━━━━━━━━━┓\n",
              "┃\u001b[1m \u001b[0m\u001b[1mLayer (type)                        \u001b[0m\u001b[1m \u001b[0m┃\u001b[1m \u001b[0m\u001b[1mOutput Shape               \u001b[0m\u001b[1m \u001b[0m┃\u001b[1m \u001b[0m\u001b[1m        Param #\u001b[0m\u001b[1m \u001b[0m┃\n",
              "┡━━━━━━━━━━━━━━━━━━━━━━━━━━━━━━━━━━━━━━╇━━━━━━━━━━━━━━━━━━━━━━━━━━━━━╇━━━━━━━━━━━━━━━━━┩\n",
              "│ dense (\u001b[38;5;33mDense\u001b[0m)                        │ (\u001b[38;5;45mNone\u001b[0m, \u001b[38;5;34m16\u001b[0m)                  │              \u001b[38;5;34m32\u001b[0m │\n",
              "├──────────────────────────────────────┼─────────────────────────────┼─────────────────┤\n",
              "│ dense_1 (\u001b[38;5;33mDense\u001b[0m)                      │ (\u001b[38;5;45mNone\u001b[0m, \u001b[38;5;34m32\u001b[0m)                  │             \u001b[38;5;34m544\u001b[0m │\n",
              "├──────────────────────────────────────┼─────────────────────────────┼─────────────────┤\n",
              "│ dense_2 (\u001b[38;5;33mDense\u001b[0m)                      │ (\u001b[38;5;45mNone\u001b[0m, \u001b[38;5;34m2\u001b[0m)                   │              \u001b[38;5;34m66\u001b[0m │\n",
              "└──────────────────────────────────────┴─────────────────────────────┴─────────────────┘\n"
            ],
            "text/html": [
              "<pre style=\"white-space:pre;overflow-x:auto;line-height:normal;font-family:Menlo,'DejaVu Sans Mono',consolas,'Courier New',monospace\">┏━━━━━━━━━━━━━━━━━━━━━━━━━━━━━━━━━━━━━━┳━━━━━━━━━━━━━━━━━━━━━━━━━━━━━┳━━━━━━━━━━━━━━━━━┓\n",
              "┃<span style=\"font-weight: bold\"> Layer (type)                         </span>┃<span style=\"font-weight: bold\"> Output Shape                </span>┃<span style=\"font-weight: bold\">         Param # </span>┃\n",
              "┡━━━━━━━━━━━━━━━━━━━━━━━━━━━━━━━━━━━━━━╇━━━━━━━━━━━━━━━━━━━━━━━━━━━━━╇━━━━━━━━━━━━━━━━━┩\n",
              "│ dense (<span style=\"color: #0087ff; text-decoration-color: #0087ff\">Dense</span>)                        │ (<span style=\"color: #00d7ff; text-decoration-color: #00d7ff\">None</span>, <span style=\"color: #00af00; text-decoration-color: #00af00\">16</span>)                  │              <span style=\"color: #00af00; text-decoration-color: #00af00\">32</span> │\n",
              "├──────────────────────────────────────┼─────────────────────────────┼─────────────────┤\n",
              "│ dense_1 (<span style=\"color: #0087ff; text-decoration-color: #0087ff\">Dense</span>)                      │ (<span style=\"color: #00d7ff; text-decoration-color: #00d7ff\">None</span>, <span style=\"color: #00af00; text-decoration-color: #00af00\">32</span>)                  │             <span style=\"color: #00af00; text-decoration-color: #00af00\">544</span> │\n",
              "├──────────────────────────────────────┼─────────────────────────────┼─────────────────┤\n",
              "│ dense_2 (<span style=\"color: #0087ff; text-decoration-color: #0087ff\">Dense</span>)                      │ (<span style=\"color: #00d7ff; text-decoration-color: #00d7ff\">None</span>, <span style=\"color: #00af00; text-decoration-color: #00af00\">2</span>)                   │              <span style=\"color: #00af00; text-decoration-color: #00af00\">66</span> │\n",
              "└──────────────────────────────────────┴─────────────────────────────┴─────────────────┘\n",
              "</pre>\n"
            ]
          },
          "metadata": {}
        },
        {
          "output_type": "display_data",
          "data": {
            "text/plain": [
              "\u001b[1m Total params: \u001b[0m\u001b[38;5;34m644\u001b[0m (2.52 KB)\n"
            ],
            "text/html": [
              "<pre style=\"white-space:pre;overflow-x:auto;line-height:normal;font-family:Menlo,'DejaVu Sans Mono',consolas,'Courier New',monospace\"><span style=\"font-weight: bold\"> Total params: </span><span style=\"color: #00af00; text-decoration-color: #00af00\">644</span> (2.52 KB)\n",
              "</pre>\n"
            ]
          },
          "metadata": {}
        },
        {
          "output_type": "display_data",
          "data": {
            "text/plain": [
              "\u001b[1m Trainable params: \u001b[0m\u001b[38;5;34m642\u001b[0m (2.51 KB)\n"
            ],
            "text/html": [
              "<pre style=\"white-space:pre;overflow-x:auto;line-height:normal;font-family:Menlo,'DejaVu Sans Mono',consolas,'Courier New',monospace\"><span style=\"font-weight: bold\"> Trainable params: </span><span style=\"color: #00af00; text-decoration-color: #00af00\">642</span> (2.51 KB)\n",
              "</pre>\n"
            ]
          },
          "metadata": {}
        },
        {
          "output_type": "display_data",
          "data": {
            "text/plain": [
              "\u001b[1m Non-trainable params: \u001b[0m\u001b[38;5;34m0\u001b[0m (0.00 B)\n"
            ],
            "text/html": [
              "<pre style=\"white-space:pre;overflow-x:auto;line-height:normal;font-family:Menlo,'DejaVu Sans Mono',consolas,'Courier New',monospace\"><span style=\"font-weight: bold\"> Non-trainable params: </span><span style=\"color: #00af00; text-decoration-color: #00af00\">0</span> (0.00 B)\n",
              "</pre>\n"
            ]
          },
          "metadata": {}
        },
        {
          "output_type": "display_data",
          "data": {
            "text/plain": [
              "\u001b[1m Optimizer params: \u001b[0m\u001b[38;5;34m2\u001b[0m (12.00 B)\n"
            ],
            "text/html": [
              "<pre style=\"white-space:pre;overflow-x:auto;line-height:normal;font-family:Menlo,'DejaVu Sans Mono',consolas,'Courier New',monospace\"><span style=\"font-weight: bold\"> Optimizer params: </span><span style=\"color: #00af00; text-decoration-color: #00af00\">2</span> (12.00 B)\n",
              "</pre>\n"
            ]
          },
          "metadata": {}
        }
      ],
      "execution_count": 29
    },
    {
      "cell_type": "code",
      "source": [
        "# new_model.get_weights()"
      ],
      "metadata": {
        "trusted": true,
        "execution": {
          "iopub.status.busy": "2024-12-25T14:00:05.069287Z",
          "iopub.execute_input": "2024-12-25T14:00:05.069632Z",
          "iopub.status.idle": "2024-12-25T14:00:05.073751Z",
          "shell.execute_reply.started": "2024-12-25T14:00:05.069605Z",
          "shell.execute_reply": "2024-12-25T14:00:05.072673Z"
        },
        "id": "E2eML2RquwPL"
      },
      "outputs": [],
      "execution_count": 30
    },
    {
      "cell_type": "code",
      "source": [
        "new_model.optimizer"
      ],
      "metadata": {
        "trusted": true,
        "execution": {
          "iopub.status.busy": "2024-12-25T14:00:13.664237Z",
          "iopub.execute_input": "2024-12-25T14:00:13.664611Z",
          "iopub.status.idle": "2024-12-25T14:00:13.670179Z",
          "shell.execute_reply.started": "2024-12-25T14:00:13.664558Z",
          "shell.execute_reply": "2024-12-25T14:00:13.669201Z"
        },
        "colab": {
          "base_uri": "https://localhost:8080/"
        },
        "id": "Qal_hmXYuwPL",
        "outputId": "9d0df01d-be68-440a-d3fd-c49f1cc218e2"
      },
      "outputs": [
        {
          "output_type": "execute_result",
          "data": {
            "text/plain": [
              "<keras.src.optimizers.adam.Adam at 0x7b81bf351bd0>"
            ]
          },
          "metadata": {},
          "execution_count": 31
        }
      ],
      "execution_count": 31
    },
    {
      "cell_type": "markdown",
      "source": [
        "## 2. model.to_json()"
      ],
      "metadata": {
        "id": "WOqglVILuwPL"
      }
    },
    {
      "cell_type": "markdown",
      "source": [
        "If we need to save only the architecture of the model without saving its weights or its training configurations, we can use this function to save it."
      ],
      "metadata": {
        "id": "CyvUvvKPuwPL"
      }
    },
    {
      "cell_type": "code",
      "source": [
        "# save as json\n",
        "json_string = model.to_json()\n",
        "\n",
        "# save as yaml\n",
        "# yaml_string = model.to_yaml()"
      ],
      "metadata": {
        "trusted": true,
        "execution": {
          "iopub.status.busy": "2024-12-25T14:02:59.877674Z",
          "iopub.execute_input": "2024-12-25T14:02:59.878037Z",
          "iopub.status.idle": "2024-12-25T14:02:59.884357Z",
          "shell.execute_reply.started": "2024-12-25T14:02:59.878005Z",
          "shell.execute_reply": "2024-12-25T14:02:59.883105Z"
        },
        "id": "DZQQVBRmuwPL"
      },
      "outputs": [],
      "execution_count": 32
    },
    {
      "cell_type": "code",
      "source": [
        "json_string"
      ],
      "metadata": {
        "trusted": true,
        "execution": {
          "iopub.status.busy": "2024-12-25T14:03:11.184157Z",
          "iopub.execute_input": "2024-12-25T14:03:11.184473Z",
          "iopub.status.idle": "2024-12-25T14:03:11.190142Z",
          "shell.execute_reply.started": "2024-12-25T14:03:11.184447Z",
          "shell.execute_reply": "2024-12-25T14:03:11.189171Z"
        },
        "colab": {
          "base_uri": "https://localhost:8080/",
          "height": 169
        },
        "id": "9lE9jcF2uwPL",
        "outputId": "148175a9-c745-4259-c2c7-f53cc29a149d"
      },
      "outputs": [
        {
          "output_type": "execute_result",
          "data": {
            "text/plain": [
              "'{\"module\": \"keras\", \"class_name\": \"Sequential\", \"config\": {\"name\": \"sequential\", \"trainable\": true, \"dtype\": {\"module\": \"keras\", \"class_name\": \"DTypePolicy\", \"config\": {\"name\": \"float32\"}, \"registered_name\": null}, \"layers\": [{\"module\": \"keras.layers\", \"class_name\": \"InputLayer\", \"config\": {\"batch_shape\": [null, 1], \"dtype\": \"float32\", \"sparse\": false, \"name\": \"input_layer\"}, \"registered_name\": null}, {\"module\": \"keras.layers\", \"class_name\": \"Dense\", \"config\": {\"name\": \"dense\", \"trainable\": true, \"dtype\": {\"module\": \"keras\", \"class_name\": \"DTypePolicy\", \"config\": {\"name\": \"float32\"}, \"registered_name\": null}, \"units\": 16, \"activation\": \"relu\", \"use_bias\": true, \"kernel_initializer\": {\"module\": \"keras.initializers\", \"class_name\": \"GlorotUniform\", \"config\": {\"seed\": null}, \"registered_name\": null}, \"bias_initializer\": {\"module\": \"keras.initializers\", \"class_name\": \"Zeros\", \"config\": {}, \"registered_name\": null}, \"kernel_regularizer\": null, \"bias_regularizer\": null, \"kernel_constraint\": null, \"bias_constraint\": null}, \"registered_name\": null, \"build_config\": {\"input_shape\": [null, 1]}}, {\"module\": \"keras.layers\", \"class_name\": \"Dense\", \"config\": {\"name\": \"dense_1\", \"trainable\": true, \"dtype\": {\"module\": \"keras\", \"class_name\": \"DTypePolicy\", \"config\": {\"name\": \"float32\"}, \"registered_name\": null}, \"units\": 32, \"activation\": \"relu\", \"use_bias\": true, \"kernel_initializer\": {\"module\": \"keras.initializers\", \"class_name\": \"GlorotUniform\", \"config\": {\"seed\": null}, \"registered_name\": null}, \"bias_initializer\": {\"module\": \"keras.initializers\", \"class_name\": \"Zeros\", \"config\": {}, \"registered_name\": null}, \"kernel_regularizer\": null, \"bias_regularizer\": null, \"kernel_constraint\": null, \"bias_constraint\": null}, \"registered_name\": null, \"build_config\": {\"input_shape\": [null, 16]}}, {\"module\": \"keras.layers\", \"class_name\": \"Dense\", \"config\": {\"name\": \"dense_2\", \"trainable\": true, \"dtype\": {\"module\": \"keras\", \"class_name\": \"DTypePolicy\", \"config\": {\"name\": \"float32\"}, \"registered_name\": null}, \"units\": 2, \"activation\": \"softmax\", \"use_bias\": true, \"kernel_initializer\": {\"module\": \"keras.initializers\", \"class_name\": \"GlorotUniform\", \"config\": {\"seed\": null}, \"registered_name\": null}, \"bias_initializer\": {\"module\": \"keras.initializers\", \"class_name\": \"Zeros\", \"config\": {}, \"registered_name\": null}, \"kernel_regularizer\": null, \"bias_regularizer\": null, \"kernel_constraint\": null, \"bias_constraint\": null}, \"registered_name\": null, \"build_config\": {\"input_shape\": [null, 32]}}], \"build_input_shape\": [null, 1]}, \"registered_name\": null, \"build_config\": {\"input_shape\": [null, 1]}, \"compile_config\": {\"optimizer\": {\"module\": \"keras.optimizers\", \"class_name\": \"Adam\", \"config\": {\"name\": \"adam\", \"learning_rate\": 9.999999747378752e-05, \"weight_decay\": null, \"clipnorm\": null, \"global_clipnorm\": null, \"clipvalue\": null, \"use_ema\": false, \"ema_momentum\": 0.99, \"ema_overwrite_frequency\": null, \"loss_scale_factor\": null, \"gradient_accumulation_steps\": null, \"beta_1\": 0.9, \"beta_2\": 0.999, \"epsilon\": 1e-07, \"amsgrad\": false}, \"registered_name\": null}, \"loss\": \"sparse_categorical_crossentropy\", \"loss_weights\": null, \"metrics\": [\"accuracy\"], \"weighted_metrics\": null, \"run_eagerly\": false, \"steps_per_execution\": 1, \"jit_compile\": false}}'"
            ],
            "application/vnd.google.colaboratory.intrinsic+json": {
              "type": "string"
            }
          },
          "metadata": {},
          "execution_count": 33
        }
      ],
      "execution_count": 33
    },
    {
      "cell_type": "code",
      "source": [
        "from keras.models import model_from_json\n",
        "model_architecture = model_from_json(json_string)"
      ],
      "metadata": {
        "trusted": true,
        "execution": {
          "iopub.status.busy": "2024-12-25T14:04:16.723142Z",
          "iopub.execute_input": "2024-12-25T14:04:16.723468Z",
          "iopub.status.idle": "2024-12-25T14:04:16.772338Z",
          "shell.execute_reply.started": "2024-12-25T14:04:16.723442Z",
          "shell.execute_reply": "2024-12-25T14:04:16.77151Z"
        },
        "id": "HNuRHyWkuwPL"
      },
      "outputs": [],
      "execution_count": 34
    },
    {
      "cell_type": "code",
      "source": [
        "model_architecture.summary()"
      ],
      "metadata": {
        "trusted": true,
        "execution": {
          "iopub.status.busy": "2024-12-25T14:04:33.649306Z",
          "iopub.execute_input": "2024-12-25T14:04:33.64969Z",
          "iopub.status.idle": "2024-12-25T14:04:33.669325Z",
          "shell.execute_reply.started": "2024-12-25T14:04:33.649657Z",
          "shell.execute_reply": "2024-12-25T14:04:33.668405Z"
        },
        "colab": {
          "base_uri": "https://localhost:8080/",
          "height": 255
        },
        "id": "0w5tLyZduwPL",
        "outputId": "e067224e-c9e7-4130-bdaa-4241d7c57590"
      },
      "outputs": [
        {
          "output_type": "display_data",
          "data": {
            "text/plain": [
              "\u001b[1mModel: \"sequential\"\u001b[0m\n"
            ],
            "text/html": [
              "<pre style=\"white-space:pre;overflow-x:auto;line-height:normal;font-family:Menlo,'DejaVu Sans Mono',consolas,'Courier New',monospace\"><span style=\"font-weight: bold\">Model: \"sequential\"</span>\n",
              "</pre>\n"
            ]
          },
          "metadata": {}
        },
        {
          "output_type": "display_data",
          "data": {
            "text/plain": [
              "┏━━━━━━━━━━━━━━━━━━━━━━━━━━━━━━━━━━━━━━┳━━━━━━━━━━━━━━━━━━━━━━━━━━━━━┳━━━━━━━━━━━━━━━━━┓\n",
              "┃\u001b[1m \u001b[0m\u001b[1mLayer (type)                        \u001b[0m\u001b[1m \u001b[0m┃\u001b[1m \u001b[0m\u001b[1mOutput Shape               \u001b[0m\u001b[1m \u001b[0m┃\u001b[1m \u001b[0m\u001b[1m        Param #\u001b[0m\u001b[1m \u001b[0m┃\n",
              "┡━━━━━━━━━━━━━━━━━━━━━━━━━━━━━━━━━━━━━━╇━━━━━━━━━━━━━━━━━━━━━━━━━━━━━╇━━━━━━━━━━━━━━━━━┩\n",
              "│ dense (\u001b[38;5;33mDense\u001b[0m)                        │ (\u001b[38;5;45mNone\u001b[0m, \u001b[38;5;34m16\u001b[0m)                  │              \u001b[38;5;34m32\u001b[0m │\n",
              "├──────────────────────────────────────┼─────────────────────────────┼─────────────────┤\n",
              "│ dense_1 (\u001b[38;5;33mDense\u001b[0m)                      │ (\u001b[38;5;45mNone\u001b[0m, \u001b[38;5;34m32\u001b[0m)                  │             \u001b[38;5;34m544\u001b[0m │\n",
              "├──────────────────────────────────────┼─────────────────────────────┼─────────────────┤\n",
              "│ dense_2 (\u001b[38;5;33mDense\u001b[0m)                      │ (\u001b[38;5;45mNone\u001b[0m, \u001b[38;5;34m2\u001b[0m)                   │              \u001b[38;5;34m66\u001b[0m │\n",
              "└──────────────────────────────────────┴─────────────────────────────┴─────────────────┘\n"
            ],
            "text/html": [
              "<pre style=\"white-space:pre;overflow-x:auto;line-height:normal;font-family:Menlo,'DejaVu Sans Mono',consolas,'Courier New',monospace\">┏━━━━━━━━━━━━━━━━━━━━━━━━━━━━━━━━━━━━━━┳━━━━━━━━━━━━━━━━━━━━━━━━━━━━━┳━━━━━━━━━━━━━━━━━┓\n",
              "┃<span style=\"font-weight: bold\"> Layer (type)                         </span>┃<span style=\"font-weight: bold\"> Output Shape                </span>┃<span style=\"font-weight: bold\">         Param # </span>┃\n",
              "┡━━━━━━━━━━━━━━━━━━━━━━━━━━━━━━━━━━━━━━╇━━━━━━━━━━━━━━━━━━━━━━━━━━━━━╇━━━━━━━━━━━━━━━━━┩\n",
              "│ dense (<span style=\"color: #0087ff; text-decoration-color: #0087ff\">Dense</span>)                        │ (<span style=\"color: #00d7ff; text-decoration-color: #00d7ff\">None</span>, <span style=\"color: #00af00; text-decoration-color: #00af00\">16</span>)                  │              <span style=\"color: #00af00; text-decoration-color: #00af00\">32</span> │\n",
              "├──────────────────────────────────────┼─────────────────────────────┼─────────────────┤\n",
              "│ dense_1 (<span style=\"color: #0087ff; text-decoration-color: #0087ff\">Dense</span>)                      │ (<span style=\"color: #00d7ff; text-decoration-color: #00d7ff\">None</span>, <span style=\"color: #00af00; text-decoration-color: #00af00\">32</span>)                  │             <span style=\"color: #00af00; text-decoration-color: #00af00\">544</span> │\n",
              "├──────────────────────────────────────┼─────────────────────────────┼─────────────────┤\n",
              "│ dense_2 (<span style=\"color: #0087ff; text-decoration-color: #0087ff\">Dense</span>)                      │ (<span style=\"color: #00d7ff; text-decoration-color: #00d7ff\">None</span>, <span style=\"color: #00af00; text-decoration-color: #00af00\">2</span>)                   │              <span style=\"color: #00af00; text-decoration-color: #00af00\">66</span> │\n",
              "└──────────────────────────────────────┴─────────────────────────────┴─────────────────┘\n",
              "</pre>\n"
            ]
          },
          "metadata": {}
        },
        {
          "output_type": "display_data",
          "data": {
            "text/plain": [
              "\u001b[1m Total params: \u001b[0m\u001b[38;5;34m1,928\u001b[0m (7.54 KB)\n"
            ],
            "text/html": [
              "<pre style=\"white-space:pre;overflow-x:auto;line-height:normal;font-family:Menlo,'DejaVu Sans Mono',consolas,'Courier New',monospace\"><span style=\"font-weight: bold\"> Total params: </span><span style=\"color: #00af00; text-decoration-color: #00af00\">1,928</span> (7.54 KB)\n",
              "</pre>\n"
            ]
          },
          "metadata": {}
        },
        {
          "output_type": "display_data",
          "data": {
            "text/plain": [
              "\u001b[1m Trainable params: \u001b[0m\u001b[38;5;34m642\u001b[0m (2.51 KB)\n"
            ],
            "text/html": [
              "<pre style=\"white-space:pre;overflow-x:auto;line-height:normal;font-family:Menlo,'DejaVu Sans Mono',consolas,'Courier New',monospace\"><span style=\"font-weight: bold\"> Trainable params: </span><span style=\"color: #00af00; text-decoration-color: #00af00\">642</span> (2.51 KB)\n",
              "</pre>\n"
            ]
          },
          "metadata": {}
        },
        {
          "output_type": "display_data",
          "data": {
            "text/plain": [
              "\u001b[1m Non-trainable params: \u001b[0m\u001b[38;5;34m0\u001b[0m (0.00 B)\n"
            ],
            "text/html": [
              "<pre style=\"white-space:pre;overflow-x:auto;line-height:normal;font-family:Menlo,'DejaVu Sans Mono',consolas,'Courier New',monospace\"><span style=\"font-weight: bold\"> Non-trainable params: </span><span style=\"color: #00af00; text-decoration-color: #00af00\">0</span> (0.00 B)\n",
              "</pre>\n"
            ]
          },
          "metadata": {}
        },
        {
          "output_type": "display_data",
          "data": {
            "text/plain": [
              "\u001b[1m Optimizer params: \u001b[0m\u001b[38;5;34m1,286\u001b[0m (5.03 KB)\n"
            ],
            "text/html": [
              "<pre style=\"white-space:pre;overflow-x:auto;line-height:normal;font-family:Menlo,'DejaVu Sans Mono',consolas,'Courier New',monospace\"><span style=\"font-weight: bold\"> Optimizer params: </span><span style=\"color: #00af00; text-decoration-color: #00af00\">1,286</span> (5.03 KB)\n",
              "</pre>\n"
            ]
          },
          "metadata": {}
        }
      ],
      "execution_count": 35
    },
    {
      "cell_type": "markdown",
      "source": [
        "## 3. model.save_weights()"
      ],
      "metadata": {
        "id": "5zsolT-ruwPL"
      }
    },
    {
      "cell_type": "markdown",
      "source": [
        "If we want to save only the weights of the model, we can use the following function to save the model weights only."
      ],
      "metadata": {
        "id": "FA4wVOJ6uwPL"
      }
    },
    {
      "cell_type": "code",
      "source": [
        "# import os.path\n",
        "# if os.path.isfile('models/my_model_weights.h5') is False:\n",
        "#     model.save_weights('models/my_model_weights.h5')"
      ],
      "metadata": {
        "trusted": true,
        "execution": {
          "iopub.status.busy": "2024-12-25T14:10:44.512729Z",
          "iopub.execute_input": "2024-12-25T14:10:44.513111Z",
          "iopub.status.idle": "2024-12-25T14:10:44.517052Z",
          "shell.execute_reply.started": "2024-12-25T14:10:44.51306Z",
          "shell.execute_reply": "2024-12-25T14:10:44.515919Z"
        },
        "id": "sp5Lz4NQuwPL"
      },
      "outputs": [],
      "execution_count": 36
    },
    {
      "cell_type": "code",
      "source": [],
      "metadata": {
        "trusted": true,
        "id": "hq8dlE3huwPL"
      },
      "outputs": [],
      "execution_count": 36
    }
  ]
}