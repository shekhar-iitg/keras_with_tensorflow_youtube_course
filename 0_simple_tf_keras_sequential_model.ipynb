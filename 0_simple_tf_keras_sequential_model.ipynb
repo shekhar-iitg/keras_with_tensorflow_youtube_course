{
  "metadata": {
    "kernelspec": {
      "language": "python",
      "display_name": "Python 3",
      "name": "python3"
    },
    "language_info": {
      "name": "python",
      "version": "3.10.12",
      "mimetype": "text/x-python",
      "codemirror_mode": {
        "name": "ipython",
        "version": 3
      },
      "pygments_lexer": "ipython3",
      "nbconvert_exporter": "python",
      "file_extension": ".py"
    },
    "kaggle": {
      "accelerator": "none",
      "dataSources": [],
      "dockerImageVersionId": 30822,
      "isInternetEnabled": true,
      "language": "python",
      "sourceType": "notebook",
      "isGpuEnabled": false
    },
    "colab": {
      "name": "0_simple_tf_keras_sequential_model",
      "provenance": [],
      "include_colab_link": true
    }
  },
  "nbformat_minor": 0,
  "nbformat": 4,
  "cells": [
    {
      "cell_type": "markdown",
      "metadata": {
        "id": "view-in-github",
        "colab_type": "text"
      },
      "source": [
        "<a href=\"https://colab.research.google.com/github/shekhar-iitg/keras_with_tensorflow_youtube_course/blob/main/0_simple_tf_keras_sequential_model.ipynb\" target=\"_parent\"><img src=\"https://colab.research.google.com/assets/colab-badge.svg\" alt=\"Open In Colab\"/></a>"
      ]
    },
    {
      "cell_type": "code",
      "source": [
        "import numpy as np\n",
        "from random import randint\n",
        "from sklearn.utils import shuffle\n",
        "from sklearn.preprocessing import MinMaxScaler"
      ],
      "metadata": {
        "trusted": true,
        "execution": {
          "iopub.status.busy": "2024-12-25T13:12:55.581566Z",
          "iopub.execute_input": "2024-12-25T13:12:55.58191Z",
          "iopub.status.idle": "2024-12-25T13:12:56.748451Z",
          "shell.execute_reply.started": "2024-12-25T13:12:55.58188Z",
          "shell.execute_reply": "2024-12-25T13:12:56.747358Z"
        },
        "id": "yRarVoRqx7c8"
      },
      "outputs": [],
      "execution_count": 1
    },
    {
      "cell_type": "code",
      "source": [
        "train_samples = []\n",
        "train_labels = []"
      ],
      "metadata": {
        "trusted": true,
        "execution": {
          "iopub.status.busy": "2024-12-25T13:12:56.749779Z",
          "iopub.execute_input": "2024-12-25T13:12:56.750231Z",
          "iopub.status.idle": "2024-12-25T13:12:56.75415Z",
          "shell.execute_reply.started": "2024-12-25T13:12:56.750203Z",
          "shell.execute_reply": "2024-12-25T13:12:56.753135Z"
        },
        "id": "ms8-mIE_x7c-"
      },
      "outputs": [],
      "execution_count": 2
    },
    {
      "cell_type": "markdown",
      "source": [
        "* An experimental drug was tested on a group of people between the age of 13 to 100\n",
        "* Trial had 2100 participants out of which half were below age 65 and half were above age 65\n",
        "* Around 95% of patients 65 or older experienced side-effects\n",
        "* Arount 95% of patients under 65 experienced no side-effects"
      ],
      "metadata": {
        "id": "o5tcQKPzx7c_"
      }
    },
    {
      "cell_type": "code",
      "source": [
        "for i in range(50):\n",
        "    random_younger = randint(13, 65)\n",
        "    train_samples.append(random_younger)\n",
        "    train_labels.append(1)\n",
        "    random_older = randint(65, 100)\n",
        "    train_samples.append(random_older)\n",
        "    train_labels.append(0)\n",
        "\n",
        "for i in range(1050):\n",
        "    random_younger = randint(13, 65)\n",
        "    train_samples.append(random_younger)\n",
        "    train_labels.append(0)\n",
        "    random_older = randint(65, 100)\n",
        "    train_samples.append(random_older)\n",
        "    train_labels.append(1)"
      ],
      "metadata": {
        "trusted": true,
        "execution": {
          "iopub.status.busy": "2024-12-25T13:12:56.756405Z",
          "iopub.execute_input": "2024-12-25T13:12:56.756669Z",
          "iopub.status.idle": "2024-12-25T13:12:56.773414Z",
          "shell.execute_reply.started": "2024-12-25T13:12:56.756643Z",
          "shell.execute_reply": "2024-12-25T13:12:56.772417Z"
        },
        "id": "W7WePenQx7dA"
      },
      "outputs": [],
      "execution_count": 3
    },
    {
      "cell_type": "code",
      "source": [
        "train_samples = np.array(train_samples)\n",
        "train_labels = np.array(train_labels)"
      ],
      "metadata": {
        "trusted": true,
        "execution": {
          "iopub.status.busy": "2024-12-25T13:12:56.775233Z",
          "iopub.execute_input": "2024-12-25T13:12:56.775511Z",
          "iopub.status.idle": "2024-12-25T13:12:56.789798Z",
          "shell.execute_reply.started": "2024-12-25T13:12:56.775487Z",
          "shell.execute_reply": "2024-12-25T13:12:56.788803Z"
        },
        "id": "RZnc-5e4x7dC"
      },
      "outputs": [],
      "execution_count": 4
    },
    {
      "cell_type": "code",
      "source": [
        "print(train_samples.shape, train_labels.shape)"
      ],
      "metadata": {
        "trusted": true,
        "execution": {
          "iopub.status.busy": "2024-12-25T13:12:56.790755Z",
          "iopub.execute_input": "2024-12-25T13:12:56.791107Z",
          "iopub.status.idle": "2024-12-25T13:12:56.810239Z",
          "shell.execute_reply.started": "2024-12-25T13:12:56.791053Z",
          "shell.execute_reply": "2024-12-25T13:12:56.809191Z"
        },
        "id": "FoUKRKc4x7dD",
        "outputId": "f4d25bac-fae1-4f8d-cba7-d4719a87ec7a",
        "colab": {
          "base_uri": "https://localhost:8080/"
        }
      },
      "outputs": [
        {
          "output_type": "stream",
          "name": "stdout",
          "text": [
            "(2200,) (2200,)\n"
          ]
        }
      ],
      "execution_count": 5
    },
    {
      "cell_type": "code",
      "source": [
        "train_samples, train_labels = shuffle(train_samples, train_labels)"
      ],
      "metadata": {
        "trusted": true,
        "execution": {
          "iopub.status.busy": "2024-12-25T13:12:56.811225Z",
          "iopub.execute_input": "2024-12-25T13:12:56.811484Z",
          "iopub.status.idle": "2024-12-25T13:12:56.827172Z",
          "shell.execute_reply.started": "2024-12-25T13:12:56.811461Z",
          "shell.execute_reply": "2024-12-25T13:12:56.82586Z"
        },
        "id": "JsNyDblDx7dF"
      },
      "outputs": [],
      "execution_count": 6
    },
    {
      "cell_type": "code",
      "source": [
        "scaler = MinMaxScaler((0, 1))\n",
        "scaled_train_samples = scaler.fit_transform(train_samples.reshape(-1, 1))"
      ],
      "metadata": {
        "trusted": true,
        "execution": {
          "iopub.status.busy": "2024-12-25T13:12:56.828226Z",
          "iopub.execute_input": "2024-12-25T13:12:56.8285Z",
          "iopub.status.idle": "2024-12-25T13:12:56.845959Z",
          "shell.execute_reply.started": "2024-12-25T13:12:56.828474Z",
          "shell.execute_reply": "2024-12-25T13:12:56.84518Z"
        },
        "id": "z0rhU73-x7dG"
      },
      "outputs": [],
      "execution_count": 7
    },
    {
      "cell_type": "code",
      "source": [
        "print(scaled_train_samples[:5])"
      ],
      "metadata": {
        "trusted": true,
        "execution": {
          "iopub.status.busy": "2024-12-25T13:12:56.846904Z",
          "iopub.execute_input": "2024-12-25T13:12:56.847262Z",
          "iopub.status.idle": "2024-12-25T13:12:56.865904Z",
          "shell.execute_reply.started": "2024-12-25T13:12:56.847228Z",
          "shell.execute_reply": "2024-12-25T13:12:56.864903Z"
        },
        "id": "aAv9KEDdx7dH",
        "outputId": "1423a7f2-76f6-4831-f12e-0f08c5e80596",
        "colab": {
          "base_uri": "https://localhost:8080/"
        }
      },
      "outputs": [
        {
          "output_type": "stream",
          "name": "stdout",
          "text": [
            "[[0.81609195]\n",
            " [0.06896552]\n",
            " [0.03448276]\n",
            " [0.45977011]\n",
            " [0.7816092 ]]\n"
          ]
        }
      ],
      "execution_count": 8
    },
    {
      "cell_type": "markdown",
      "source": [
        "# Simple tf.Keras Sequential Model"
      ],
      "metadata": {
        "id": "r1RPP4V_x7dK"
      }
    },
    {
      "cell_type": "code",
      "source": [
        "import tensorflow as tf\n",
        "from tensorflow import keras\n",
        "from tensorflow.keras.models import Sequential\n",
        "from tensorflow.keras.layers import Activation, Dense\n",
        "from tensorflow.keras.optimizers import Adam\n",
        "from tensorflow.keras.metrics import categorical_crossentropy"
      ],
      "metadata": {
        "trusted": true,
        "execution": {
          "iopub.status.busy": "2024-12-25T13:12:56.868655Z",
          "iopub.execute_input": "2024-12-25T13:12:56.868969Z",
          "iopub.status.idle": "2024-12-25T13:13:05.57016Z",
          "shell.execute_reply.started": "2024-12-25T13:12:56.868941Z",
          "shell.execute_reply": "2024-12-25T13:13:05.569217Z"
        },
        "id": "r8wcEf23x7dK"
      },
      "outputs": [],
      "execution_count": 9
    },
    {
      "cell_type": "code",
      "source": [
        "physical_devices = tf.config.experimental.list_physical_devices('GPU')\n",
        "print(f'No. of GPUs available: {len(physical_devices)}')\n",
        "# tf.config.experimental.set_memory_growth(physical_devices[0], True)?"
      ],
      "metadata": {
        "trusted": true,
        "execution": {
          "iopub.status.busy": "2024-12-25T13:13:05.571489Z",
          "iopub.execute_input": "2024-12-25T13:13:05.57202Z",
          "iopub.status.idle": "2024-12-25T13:13:05.579599Z",
          "shell.execute_reply.started": "2024-12-25T13:13:05.571992Z",
          "shell.execute_reply": "2024-12-25T13:13:05.578427Z"
        },
        "id": "-KqAClgKx7dM",
        "outputId": "6764c518-aea7-4cc5-91fb-f794928b11d7",
        "colab": {
          "base_uri": "https://localhost:8080/"
        }
      },
      "outputs": [
        {
          "output_type": "stream",
          "name": "stdout",
          "text": [
            "No. of GPUs available: 0\n"
          ]
        }
      ],
      "execution_count": 10
    },
    {
      "cell_type": "code",
      "source": [
        "model = Sequential([\n",
        "    Dense(units = 16, input_shape = (1, ), activation = 'relu'),\n",
        "    Dense(units = 32, activation = 'relu'),\n",
        "    Dense(units = 2, activation = 'softmax')\n",
        "])"
      ],
      "metadata": {
        "trusted": true,
        "execution": {
          "iopub.status.busy": "2024-12-25T13:13:05.58053Z",
          "iopub.execute_input": "2024-12-25T13:13:05.580837Z",
          "iopub.status.idle": "2024-12-25T13:13:05.676947Z",
          "shell.execute_reply.started": "2024-12-25T13:13:05.580812Z",
          "shell.execute_reply": "2024-12-25T13:13:05.675836Z"
        },
        "id": "U3Go7WWMx7dM",
        "outputId": "8b30c7d5-15bf-49f4-f98d-bb33b86df876",
        "colab": {
          "base_uri": "https://localhost:8080/"
        }
      },
      "outputs": [
        {
          "output_type": "stream",
          "name": "stderr",
          "text": [
            "/usr/local/lib/python3.11/dist-packages/keras/src/layers/core/dense.py:87: UserWarning: Do not pass an `input_shape`/`input_dim` argument to a layer. When using Sequential models, prefer using an `Input(shape)` object as the first layer in the model instead.\n",
            "  super().__init__(activity_regularizer=activity_regularizer, **kwargs)\n"
          ]
        }
      ],
      "execution_count": 11
    },
    {
      "cell_type": "code",
      "source": [
        "model.summary()"
      ],
      "metadata": {
        "trusted": true,
        "execution": {
          "iopub.status.busy": "2024-12-25T13:13:05.677899Z",
          "iopub.execute_input": "2024-12-25T13:13:05.678212Z",
          "iopub.status.idle": "2024-12-25T13:13:05.696053Z",
          "shell.execute_reply.started": "2024-12-25T13:13:05.678188Z",
          "shell.execute_reply": "2024-12-25T13:13:05.695156Z"
        },
        "id": "45JX1wv1x7dN",
        "outputId": "dbb5d8c9-94fa-41dd-f423-225a66b38d2b",
        "colab": {
          "base_uri": "https://localhost:8080/",
          "height": 238
        }
      },
      "outputs": [
        {
          "output_type": "display_data",
          "data": {
            "text/plain": [
              "\u001b[1mModel: \"sequential\"\u001b[0m\n"
            ],
            "text/html": [
              "<pre style=\"white-space:pre;overflow-x:auto;line-height:normal;font-family:Menlo,'DejaVu Sans Mono',consolas,'Courier New',monospace\"><span style=\"font-weight: bold\">Model: \"sequential\"</span>\n",
              "</pre>\n"
            ]
          },
          "metadata": {}
        },
        {
          "output_type": "display_data",
          "data": {
            "text/plain": [
              "┏━━━━━━━━━━━━━━━━━━━━━━━━━━━━━━━━━━━━━━┳━━━━━━━━━━━━━━━━━━━━━━━━━━━━━┳━━━━━━━━━━━━━━━━━┓\n",
              "┃\u001b[1m \u001b[0m\u001b[1mLayer (type)                        \u001b[0m\u001b[1m \u001b[0m┃\u001b[1m \u001b[0m\u001b[1mOutput Shape               \u001b[0m\u001b[1m \u001b[0m┃\u001b[1m \u001b[0m\u001b[1m        Param #\u001b[0m\u001b[1m \u001b[0m┃\n",
              "┡━━━━━━━━━━━━━━━━━━━━━━━━━━━━━━━━━━━━━━╇━━━━━━━━━━━━━━━━━━━━━━━━━━━━━╇━━━━━━━━━━━━━━━━━┩\n",
              "│ dense (\u001b[38;5;33mDense\u001b[0m)                        │ (\u001b[38;5;45mNone\u001b[0m, \u001b[38;5;34m16\u001b[0m)                  │              \u001b[38;5;34m32\u001b[0m │\n",
              "├──────────────────────────────────────┼─────────────────────────────┼─────────────────┤\n",
              "│ dense_1 (\u001b[38;5;33mDense\u001b[0m)                      │ (\u001b[38;5;45mNone\u001b[0m, \u001b[38;5;34m32\u001b[0m)                  │             \u001b[38;5;34m544\u001b[0m │\n",
              "├──────────────────────────────────────┼─────────────────────────────┼─────────────────┤\n",
              "│ dense_2 (\u001b[38;5;33mDense\u001b[0m)                      │ (\u001b[38;5;45mNone\u001b[0m, \u001b[38;5;34m2\u001b[0m)                   │              \u001b[38;5;34m66\u001b[0m │\n",
              "└──────────────────────────────────────┴─────────────────────────────┴─────────────────┘\n"
            ],
            "text/html": [
              "<pre style=\"white-space:pre;overflow-x:auto;line-height:normal;font-family:Menlo,'DejaVu Sans Mono',consolas,'Courier New',monospace\">┏━━━━━━━━━━━━━━━━━━━━━━━━━━━━━━━━━━━━━━┳━━━━━━━━━━━━━━━━━━━━━━━━━━━━━┳━━━━━━━━━━━━━━━━━┓\n",
              "┃<span style=\"font-weight: bold\"> Layer (type)                         </span>┃<span style=\"font-weight: bold\"> Output Shape                </span>┃<span style=\"font-weight: bold\">         Param # </span>┃\n",
              "┡━━━━━━━━━━━━━━━━━━━━━━━━━━━━━━━━━━━━━━╇━━━━━━━━━━━━━━━━━━━━━━━━━━━━━╇━━━━━━━━━━━━━━━━━┩\n",
              "│ dense (<span style=\"color: #0087ff; text-decoration-color: #0087ff\">Dense</span>)                        │ (<span style=\"color: #00d7ff; text-decoration-color: #00d7ff\">None</span>, <span style=\"color: #00af00; text-decoration-color: #00af00\">16</span>)                  │              <span style=\"color: #00af00; text-decoration-color: #00af00\">32</span> │\n",
              "├──────────────────────────────────────┼─────────────────────────────┼─────────────────┤\n",
              "│ dense_1 (<span style=\"color: #0087ff; text-decoration-color: #0087ff\">Dense</span>)                      │ (<span style=\"color: #00d7ff; text-decoration-color: #00d7ff\">None</span>, <span style=\"color: #00af00; text-decoration-color: #00af00\">32</span>)                  │             <span style=\"color: #00af00; text-decoration-color: #00af00\">544</span> │\n",
              "├──────────────────────────────────────┼─────────────────────────────┼─────────────────┤\n",
              "│ dense_2 (<span style=\"color: #0087ff; text-decoration-color: #0087ff\">Dense</span>)                      │ (<span style=\"color: #00d7ff; text-decoration-color: #00d7ff\">None</span>, <span style=\"color: #00af00; text-decoration-color: #00af00\">2</span>)                   │              <span style=\"color: #00af00; text-decoration-color: #00af00\">66</span> │\n",
              "└──────────────────────────────────────┴─────────────────────────────┴─────────────────┘\n",
              "</pre>\n"
            ]
          },
          "metadata": {}
        },
        {
          "output_type": "display_data",
          "data": {
            "text/plain": [
              "\u001b[1m Total params: \u001b[0m\u001b[38;5;34m642\u001b[0m (2.51 KB)\n"
            ],
            "text/html": [
              "<pre style=\"white-space:pre;overflow-x:auto;line-height:normal;font-family:Menlo,'DejaVu Sans Mono',consolas,'Courier New',monospace\"><span style=\"font-weight: bold\"> Total params: </span><span style=\"color: #00af00; text-decoration-color: #00af00\">642</span> (2.51 KB)\n",
              "</pre>\n"
            ]
          },
          "metadata": {}
        },
        {
          "output_type": "display_data",
          "data": {
            "text/plain": [
              "\u001b[1m Trainable params: \u001b[0m\u001b[38;5;34m642\u001b[0m (2.51 KB)\n"
            ],
            "text/html": [
              "<pre style=\"white-space:pre;overflow-x:auto;line-height:normal;font-family:Menlo,'DejaVu Sans Mono',consolas,'Courier New',monospace\"><span style=\"font-weight: bold\"> Trainable params: </span><span style=\"color: #00af00; text-decoration-color: #00af00\">642</span> (2.51 KB)\n",
              "</pre>\n"
            ]
          },
          "metadata": {}
        },
        {
          "output_type": "display_data",
          "data": {
            "text/plain": [
              "\u001b[1m Non-trainable params: \u001b[0m\u001b[38;5;34m0\u001b[0m (0.00 B)\n"
            ],
            "text/html": [
              "<pre style=\"white-space:pre;overflow-x:auto;line-height:normal;font-family:Menlo,'DejaVu Sans Mono',consolas,'Courier New',monospace\"><span style=\"font-weight: bold\"> Non-trainable params: </span><span style=\"color: #00af00; text-decoration-color: #00af00\">0</span> (0.00 B)\n",
              "</pre>\n"
            ]
          },
          "metadata": {}
        }
      ],
      "execution_count": 12
    },
    {
      "cell_type": "code",
      "source": [
        "model.compile(optimizer = Adam(learning_rate = 1e-4), loss = 'sparse_categorical_crossentropy', metrics = ['accuracy'])\n",
        "# model.fit(x = scaled_train_samples, y = train_labels, batch_size = 10, epochs = 30, shuffle = True, verbose = 2)"
      ],
      "metadata": {
        "trusted": true,
        "execution": {
          "iopub.status.busy": "2024-12-25T13:13:05.696887Z",
          "iopub.execute_input": "2024-12-25T13:13:05.697269Z",
          "iopub.status.idle": "2024-12-25T13:13:05.717141Z",
          "shell.execute_reply.started": "2024-12-25T13:13:05.697242Z",
          "shell.execute_reply": "2024-12-25T13:13:05.716011Z"
        },
        "id": "GBQd8Ueyx7dN"
      },
      "outputs": [],
      "execution_count": 13
    },
    {
      "cell_type": "markdown",
      "source": [
        "* NOTE: Shuffle = True shuffles the training data set after removing the validation set if we set\n",
        "the parameter validation_set to some x percent. That is why we need to shuffle the training set before passing it to model.fit()"
      ],
      "metadata": {
        "id": "-VM49x5-x7dN"
      }
    },
    {
      "cell_type": "code",
      "source": [
        "model.fit(x = scaled_train_samples, y = train_labels, validation_split = 0.1, batch_size = 10, epochs = 30, shuffle = True, verbose = 2)"
      ],
      "metadata": {
        "trusted": true,
        "execution": {
          "iopub.status.busy": "2024-12-25T13:13:05.718168Z",
          "iopub.execute_input": "2024-12-25T13:13:05.718422Z",
          "iopub.status.idle": "2024-12-25T13:13:14.910059Z",
          "shell.execute_reply.started": "2024-12-25T13:13:05.7184Z",
          "shell.execute_reply": "2024-12-25T13:13:14.909207Z"
        },
        "id": "kYGXTymZx7dO",
        "outputId": "20a15565-90b8-4f23-8f0f-e43ad879b775",
        "colab": {
          "base_uri": "https://localhost:8080/"
        }
      },
      "outputs": [
        {
          "output_type": "stream",
          "name": "stdout",
          "text": [
            "Epoch 1/30\n",
            "198/198 - 9s - 46ms/step - accuracy: 0.5136 - loss: 0.6851 - val_accuracy: 0.6045 - val_loss: 0.6718\n",
            "Epoch 2/30\n",
            "198/198 - 3s - 15ms/step - accuracy: 0.6687 - loss: 0.6575 - val_accuracy: 0.6909 - val_loss: 0.6444\n",
            "Epoch 3/30\n",
            "198/198 - 1s - 5ms/step - accuracy: 0.7167 - loss: 0.6313 - val_accuracy: 0.7318 - val_loss: 0.6188\n",
            "Epoch 4/30\n",
            "198/198 - 1s - 6ms/step - accuracy: 0.7641 - loss: 0.6032 - val_accuracy: 0.7955 - val_loss: 0.5877\n",
            "Epoch 5/30\n",
            "198/198 - 1s - 4ms/step - accuracy: 0.8025 - loss: 0.5704 - val_accuracy: 0.8318 - val_loss: 0.5545\n",
            "Epoch 6/30\n",
            "198/198 - 0s - 2ms/step - accuracy: 0.8268 - loss: 0.5369 - val_accuracy: 0.8455 - val_loss: 0.5202\n",
            "Epoch 7/30\n",
            "198/198 - 0s - 2ms/step - accuracy: 0.8505 - loss: 0.5028 - val_accuracy: 0.8682 - val_loss: 0.4860\n",
            "Epoch 8/30\n",
            "198/198 - 1s - 3ms/step - accuracy: 0.8687 - loss: 0.4707 - val_accuracy: 0.8773 - val_loss: 0.4539\n",
            "Epoch 9/30\n",
            "198/198 - 1s - 3ms/step - accuracy: 0.8803 - loss: 0.4412 - val_accuracy: 0.8818 - val_loss: 0.4247\n",
            "Epoch 10/30\n",
            "198/198 - 0s - 2ms/step - accuracy: 0.8864 - loss: 0.4145 - val_accuracy: 0.9045 - val_loss: 0.3977\n",
            "Epoch 11/30\n",
            "198/198 - 0s - 2ms/step - accuracy: 0.8960 - loss: 0.3907 - val_accuracy: 0.9227 - val_loss: 0.3737\n",
            "Epoch 12/30\n",
            "198/198 - 1s - 3ms/step - accuracy: 0.9045 - loss: 0.3702 - val_accuracy: 0.9227 - val_loss: 0.3526\n",
            "Epoch 13/30\n",
            "198/198 - 1s - 3ms/step - accuracy: 0.9136 - loss: 0.3528 - val_accuracy: 0.9273 - val_loss: 0.3345\n",
            "Epoch 14/30\n",
            "198/198 - 1s - 5ms/step - accuracy: 0.9167 - loss: 0.3381 - val_accuracy: 0.9273 - val_loss: 0.3190\n",
            "Epoch 15/30\n",
            "198/198 - 1s - 7ms/step - accuracy: 0.9177 - loss: 0.3257 - val_accuracy: 0.9455 - val_loss: 0.3055\n",
            "Epoch 16/30\n",
            "198/198 - 1s - 5ms/step - accuracy: 0.9242 - loss: 0.3154 - val_accuracy: 0.9455 - val_loss: 0.2938\n",
            "Epoch 17/30\n",
            "198/198 - 1s - 3ms/step - accuracy: 0.9278 - loss: 0.3066 - val_accuracy: 0.9455 - val_loss: 0.2837\n",
            "Epoch 18/30\n",
            "198/198 - 1s - 3ms/step - accuracy: 0.9283 - loss: 0.2993 - val_accuracy: 0.9455 - val_loss: 0.2750\n",
            "Epoch 19/30\n",
            "198/198 - 1s - 3ms/step - accuracy: 0.9328 - loss: 0.2931 - val_accuracy: 0.9455 - val_loss: 0.2678\n",
            "Epoch 20/30\n",
            "198/198 - 1s - 3ms/step - accuracy: 0.9283 - loss: 0.2879 - val_accuracy: 0.9455 - val_loss: 0.2611\n",
            "Epoch 21/30\n",
            "198/198 - 1s - 3ms/step - accuracy: 0.9359 - loss: 0.2834 - val_accuracy: 0.9455 - val_loss: 0.2552\n",
            "Epoch 22/30\n",
            "198/198 - 1s - 3ms/step - accuracy: 0.9333 - loss: 0.2795 - val_accuracy: 0.9455 - val_loss: 0.2500\n",
            "Epoch 23/30\n",
            "198/198 - 0s - 2ms/step - accuracy: 0.9374 - loss: 0.2763 - val_accuracy: 0.9455 - val_loss: 0.2454\n",
            "Epoch 24/30\n",
            "198/198 - 1s - 3ms/step - accuracy: 0.9374 - loss: 0.2734 - val_accuracy: 0.9455 - val_loss: 0.2416\n",
            "Epoch 25/30\n",
            "198/198 - 1s - 3ms/step - accuracy: 0.9374 - loss: 0.2710 - val_accuracy: 0.9455 - val_loss: 0.2381\n",
            "Epoch 26/30\n",
            "198/198 - 1s - 3ms/step - accuracy: 0.9384 - loss: 0.2687 - val_accuracy: 0.9455 - val_loss: 0.2356\n",
            "Epoch 27/30\n",
            "198/198 - 0s - 2ms/step - accuracy: 0.9399 - loss: 0.2670 - val_accuracy: 0.9455 - val_loss: 0.2327\n",
            "Epoch 28/30\n",
            "198/198 - 0s - 2ms/step - accuracy: 0.9374 - loss: 0.2654 - val_accuracy: 0.9455 - val_loss: 0.2299\n",
            "Epoch 29/30\n",
            "198/198 - 1s - 3ms/step - accuracy: 0.9409 - loss: 0.2637 - val_accuracy: 0.9455 - val_loss: 0.2278\n",
            "Epoch 30/30\n",
            "198/198 - 0s - 2ms/step - accuracy: 0.9404 - loss: 0.2623 - val_accuracy: 0.9455 - val_loss: 0.2259\n"
          ]
        },
        {
          "output_type": "execute_result",
          "data": {
            "text/plain": [
              "<keras.src.callbacks.history.History at 0x790b67f6f010>"
            ]
          },
          "metadata": {},
          "execution_count": 14
        }
      ],
      "execution_count": 14
    },
    {
      "cell_type": "markdown",
      "source": [
        "# Creating Test Data"
      ],
      "metadata": {
        "id": "h8eMfBghx7dO"
      }
    },
    {
      "cell_type": "code",
      "source": [
        "test_samples = []\n",
        "test_labels = []"
      ],
      "metadata": {
        "trusted": true,
        "execution": {
          "iopub.status.busy": "2024-12-25T13:13:14.910944Z",
          "iopub.execute_input": "2024-12-25T13:13:14.911285Z",
          "iopub.status.idle": "2024-12-25T13:13:14.915Z",
          "shell.execute_reply.started": "2024-12-25T13:13:14.911249Z",
          "shell.execute_reply": "2024-12-25T13:13:14.913944Z"
        },
        "id": "LgvUTfKVx7dO"
      },
      "outputs": [],
      "execution_count": 15
    },
    {
      "cell_type": "code",
      "source": [
        "for i in range(10):\n",
        "    random_younger = randint(13, 64)\n",
        "    test_samples.append(random_younger)\n",
        "    test_labels.append(1)\n",
        "    random_older = randint(65, 100)\n",
        "    test_samples.append(random_older)\n",
        "    test_labels.append(0)\n",
        "\n",
        "for i in range(200):\n",
        "    random_younger = randint(13, 64)\n",
        "    test_samples.append(random_younger)\n",
        "    test_labels.append(0)\n",
        "    random_older = randint(65, 100)\n",
        "    test_samples.append(random_older)\n",
        "    test_labels.append(1)"
      ],
      "metadata": {
        "trusted": true,
        "execution": {
          "iopub.status.busy": "2024-12-25T13:13:14.916024Z",
          "iopub.execute_input": "2024-12-25T13:13:14.91639Z",
          "iopub.status.idle": "2024-12-25T13:13:14.934692Z",
          "shell.execute_reply.started": "2024-12-25T13:13:14.916355Z",
          "shell.execute_reply": "2024-12-25T13:13:14.933533Z"
        },
        "id": "7qN0ISedx7dP"
      },
      "outputs": [],
      "execution_count": 16
    },
    {
      "cell_type": "code",
      "source": [
        "test_samples = np.array(test_samples)\n",
        "test_labels = np.array(test_labels)\n",
        "\n",
        "test_samples, test_labels = shuffle(test_samples, test_labels)"
      ],
      "metadata": {
        "trusted": true,
        "execution": {
          "iopub.status.busy": "2024-12-25T13:13:14.935671Z",
          "iopub.execute_input": "2024-12-25T13:13:14.935996Z",
          "iopub.status.idle": "2024-12-25T13:13:14.951709Z",
          "shell.execute_reply.started": "2024-12-25T13:13:14.935957Z",
          "shell.execute_reply": "2024-12-25T13:13:14.950758Z"
        },
        "id": "RuMRSd6px7dP"
      },
      "outputs": [],
      "execution_count": 17
    },
    {
      "cell_type": "code",
      "source": [
        "scaled_test_samples = scaler.fit_transform(test_samples.reshape(-1, 1))"
      ],
      "metadata": {
        "trusted": true,
        "execution": {
          "iopub.status.busy": "2024-12-25T13:13:14.952641Z",
          "iopub.execute_input": "2024-12-25T13:13:14.952967Z",
          "iopub.status.idle": "2024-12-25T13:13:14.968517Z",
          "shell.execute_reply.started": "2024-12-25T13:13:14.952926Z",
          "shell.execute_reply": "2024-12-25T13:13:14.967446Z"
        },
        "id": "gCxc9WtGx7dP"
      },
      "outputs": [],
      "execution_count": 18
    },
    {
      "cell_type": "markdown",
      "source": [
        "# Prediction"
      ],
      "metadata": {
        "id": "T3UKG5Wzx7dQ"
      }
    },
    {
      "cell_type": "code",
      "source": [
        "predictions = model.predict(x = scaled_test_samples, batch_size = 10, verbose = 0)"
      ],
      "metadata": {
        "trusted": true,
        "execution": {
          "iopub.status.busy": "2024-12-25T13:13:14.969571Z",
          "iopub.execute_input": "2024-12-25T13:13:14.969906Z",
          "iopub.status.idle": "2024-12-25T13:13:15.143485Z",
          "shell.execute_reply.started": "2024-12-25T13:13:14.96988Z",
          "shell.execute_reply": "2024-12-25T13:13:15.142539Z"
        },
        "id": "_-f0tyVsx7dQ"
      },
      "outputs": [],
      "execution_count": 19
    },
    {
      "cell_type": "code",
      "source": [
        "print(predictions[:5])"
      ],
      "metadata": {
        "trusted": true,
        "execution": {
          "iopub.status.busy": "2024-12-25T13:13:15.144531Z",
          "iopub.execute_input": "2024-12-25T13:13:15.144847Z",
          "iopub.status.idle": "2024-12-25T13:13:15.150102Z",
          "shell.execute_reply.started": "2024-12-25T13:13:15.144811Z",
          "shell.execute_reply": "2024-12-25T13:13:15.149101Z"
        },
        "id": "rOMt-XYdx7dQ",
        "outputId": "29bc6083-3ec8-43e3-8975-6d3aac7d479a",
        "colab": {
          "base_uri": "https://localhost:8080/"
        }
      },
      "outputs": [
        {
          "output_type": "stream",
          "name": "stdout",
          "text": [
            "[[0.846361   0.15363899]\n",
            " [0.8917609  0.10823911]\n",
            " [0.05836271 0.9416373 ]\n",
            " [0.19982545 0.80017453]\n",
            " [0.97253877 0.02746127]]\n"
          ]
        }
      ],
      "execution_count": 20
    },
    {
      "cell_type": "code",
      "source": [
        "prediction_labels = np.argmax(predictions, axis = 1)"
      ],
      "metadata": {
        "trusted": true,
        "execution": {
          "iopub.status.busy": "2024-12-25T13:13:15.151005Z",
          "iopub.execute_input": "2024-12-25T13:13:15.151375Z",
          "iopub.status.idle": "2024-12-25T13:13:15.166554Z",
          "shell.execute_reply.started": "2024-12-25T13:13:15.151337Z",
          "shell.execute_reply": "2024-12-25T13:13:15.165589Z"
        },
        "id": "ch25KOxBx7dR"
      },
      "outputs": [],
      "execution_count": 21
    },
    {
      "cell_type": "code",
      "source": [
        "print(prediction_labels[:5])"
      ],
      "metadata": {
        "trusted": true,
        "execution": {
          "iopub.status.busy": "2024-12-25T13:13:15.167595Z",
          "iopub.execute_input": "2024-12-25T13:13:15.167959Z",
          "iopub.status.idle": "2024-12-25T13:13:15.185878Z",
          "shell.execute_reply.started": "2024-12-25T13:13:15.167921Z",
          "shell.execute_reply": "2024-12-25T13:13:15.184804Z"
        },
        "id": "z1jQPRafx7dR",
        "outputId": "6f45c9e4-6723-46a2-cbee-d06bf3806730",
        "colab": {
          "base_uri": "https://localhost:8080/"
        }
      },
      "outputs": [
        {
          "output_type": "stream",
          "name": "stdout",
          "text": [
            "[0 0 1 1 0]\n"
          ]
        }
      ],
      "execution_count": 22
    },
    {
      "cell_type": "markdown",
      "source": [
        "# Confusion Matrix"
      ],
      "metadata": {
        "id": "ct3xj6xex7dS"
      }
    },
    {
      "cell_type": "code",
      "source": [
        "%matplotlib inline\n",
        "from sklearn.metrics import confusion_matrix\n",
        "import itertools\n",
        "import matplotlib.pyplot as plt"
      ],
      "metadata": {
        "trusted": true,
        "execution": {
          "iopub.status.busy": "2024-12-25T13:20:01.320323Z",
          "iopub.execute_input": "2024-12-25T13:20:01.32067Z",
          "iopub.status.idle": "2024-12-25T13:20:01.426183Z",
          "shell.execute_reply.started": "2024-12-25T13:20:01.32064Z",
          "shell.execute_reply": "2024-12-25T13:20:01.425288Z"
        },
        "id": "j-o28U9sx7dS"
      },
      "outputs": [],
      "execution_count": 23
    },
    {
      "cell_type": "code",
      "source": [
        "cm = confusion_matrix(y_true = test_labels, y_pred = prediction_labels)"
      ],
      "metadata": {
        "trusted": true,
        "execution": {
          "iopub.status.busy": "2024-12-25T13:21:49.77381Z",
          "iopub.execute_input": "2024-12-25T13:21:49.774176Z",
          "iopub.status.idle": "2024-12-25T13:21:49.780939Z",
          "shell.execute_reply.started": "2024-12-25T13:21:49.774149Z",
          "shell.execute_reply": "2024-12-25T13:21:49.779985Z"
        },
        "id": "x0lcH9J2x7dS"
      },
      "outputs": [],
      "execution_count": 24
    },
    {
      "cell_type": "code",
      "source": [
        "def plot_confusion_matrix(cm, classes, normalize = False, title = 'Confusion Matrix', cmap = plt.cm.Blues):\n",
        "    \"\"\"\n",
        "    This function prints and plots the confusion matrix\n",
        "    Normalization can be applied by setting normalize = True\n",
        "    \"\"\"\n",
        "    plt.imshow(cm, interpolation = 'nearest', cmap = cmap)\n",
        "    plt.title(title)\n",
        "    plt.colorbar()\n",
        "    tick_marks = np.arange(len(classes))\n",
        "    plt.xticks(tick_marks, classes, rotation = 45)\n",
        "\n",
        "    if normalize:\n",
        "        cm = cm.astype('float') / cm.sum(axis = 1)[:, np.newaxis]\n",
        "        print('Normalized Confusion Matrix')\n",
        "    else:\n",
        "        print('Confusion Matrix, without normalization')\n",
        "\n",
        "    print(cm)\n",
        "\n",
        "    thres = cm.max() / 2\n",
        "    for i, j in itertools.product(range(cm.shape[0]), range(cm.shape[1])):\n",
        "        plt.text(j, i, cm[i, j],\n",
        "                horizontalalignment = 'center',\n",
        "                color = 'white' if cm[i, j] > thres else 'black'\n",
        "                )\n",
        "    plt.tight_layout()\n",
        "    plt.ylabel('True Label')\n",
        "    plt.xlabel('Predicted Label')"
      ],
      "metadata": {
        "trusted": true,
        "execution": {
          "iopub.status.busy": "2024-12-25T13:35:32.422415Z",
          "iopub.execute_input": "2024-12-25T13:35:32.422773Z",
          "iopub.status.idle": "2024-12-25T13:35:32.430234Z",
          "shell.execute_reply.started": "2024-12-25T13:35:32.422746Z",
          "shell.execute_reply": "2024-12-25T13:35:32.42905Z"
        },
        "id": "d3g2MrIdx7dT"
      },
      "outputs": [],
      "execution_count": 25
    },
    {
      "cell_type": "code",
      "source": [
        "cm_plot_labels = ['no_side_effects', 'had_side_effects']\n",
        "plot_confusion_matrix(cm = cm, classes = cm_plot_labels)"
      ],
      "metadata": {
        "trusted": true,
        "execution": {
          "iopub.status.busy": "2024-12-25T13:36:58.134816Z",
          "iopub.execute_input": "2024-12-25T13:36:58.135234Z",
          "iopub.status.idle": "2024-12-25T13:36:58.603487Z",
          "shell.execute_reply.started": "2024-12-25T13:36:58.135202Z",
          "shell.execute_reply": "2024-12-25T13:36:58.602469Z"
        },
        "id": "ucwlzQKZx7dT",
        "outputId": "a24657d3-ee60-47c7-da28-717593c8fbdc",
        "colab": {
          "base_uri": "https://localhost:8080/",
          "height": 561
        }
      },
      "outputs": [
        {
          "output_type": "stream",
          "name": "stdout",
          "text": [
            "Confusion Matrix, without normalization\n",
            "[[192  18]\n",
            " [  9 201]]\n"
          ]
        },
        {
          "output_type": "display_data",
          "data": {
            "text/plain": [
              "<Figure size 640x480 with 2 Axes>"
            ],
            "image/png": "[encoded data removed]"
          },
          "metadata": {}
        }
      ],
      "execution_count": 26
    },
    {
      "cell_type": "markdown",
      "source": [
        "# Save and load a model"
      ],
      "metadata": {
        "id": "IZcEjODrx7dT"
      }
    },
    {
      "cell_type": "markdown",
      "source": [
        "## 1. model.save()"
      ],
      "metadata": {
        "id": "1TNkF5o3x7dT"
      }
    },
    {
      "cell_type": "code",
      "source": [
        "import os.path\n",
        "if os.path.isfile('models/medical_trial_model.h5') is False:\n",
        "    model.save('models/medical_trial_model.h5')"
      ],
      "metadata": {
        "trusted": true,
        "execution": {
          "iopub.status.busy": "2024-12-25T13:55:45.921257Z",
          "iopub.execute_input": "2024-12-25T13:55:45.921594Z",
          "iopub.status.idle": "2024-12-25T13:55:45.962467Z",
          "shell.execute_reply.started": "2024-12-25T13:55:45.921566Z",
          "shell.execute_reply": "2024-12-25T13:55:45.961498Z"
        },
        "id": "wmN6RWnzx7dU",
        "outputId": "948d456a-695a-46bd-828d-342a9d83951e",
        "colab": {
          "base_uri": "https://localhost:8080/"
        }
      },
      "outputs": [
        {
          "output_type": "stream",
          "name": "stderr",
          "text": [
            "WARNING:absl:You are saving your model as an HDF5 file via `model.save()` or `keras.saving.save_model(model)`. This file format is considered legacy. We recommend using instead the native Keras format, e.g. `model.save('my_model.keras')` or `keras.saving.save_model(model, 'my_model.keras')`. \n"
          ]
        }
      ],
      "execution_count": 27
    },
    {
      "cell_type": "markdown",
      "source": [
        "This save function saves:\n",
        "* The architecture of the model, allowing to re-create the model\n",
        "* The weights of the model\n",
        "* The training configuration (loss, optmizer)\n",
        "* The state of the optimizer, allowing to resume training from where we left off"
      ],
      "metadata": {
        "id": "fojeHk-zx7dU"
      }
    },
    {
      "cell_type": "code",
      "source": [
        "from tensorflow.keras.models import load_model\n",
        "new_model = load_model('models/medical_trial_model.h5')"
      ],
      "metadata": {
        "trusted": true,
        "execution": {
          "iopub.status.busy": "2024-12-25T13:59:06.323121Z",
          "iopub.execute_input": "2024-12-25T13:59:06.323473Z",
          "iopub.status.idle": "2024-12-25T13:59:06.373985Z",
          "shell.execute_reply.started": "2024-12-25T13:59:06.323441Z",
          "shell.execute_reply": "2024-12-25T13:59:06.373118Z"
        },
        "id": "kJrwoHd2x7dU",
        "outputId": "b6af098c-adf2-489c-a2e8-868d415786ec",
        "colab": {
          "base_uri": "https://localhost:8080/"
        }
      },
      "outputs": [
        {
          "output_type": "stream",
          "name": "stderr",
          "text": [
            "WARNING:absl:Compiled the loaded model, but the compiled metrics have yet to be built. `model.compile_metrics` will be empty until you train or evaluate the model.\n"
          ]
        }
      ],
      "execution_count": 28
    },
    {
      "cell_type": "code",
      "source": [
        "new_model.summary()"
      ],
      "metadata": {
        "trusted": true,
        "execution": {
          "iopub.status.busy": "2024-12-25T13:59:14.128862Z",
          "iopub.execute_input": "2024-12-25T13:59:14.129247Z",
          "iopub.status.idle": "2024-12-25T13:59:14.147415Z",
          "shell.execute_reply.started": "2024-12-25T13:59:14.129212Z",
          "shell.execute_reply": "2024-12-25T13:59:14.146425Z"
        },
        "id": "mWEx781yx7dU",
        "outputId": "6825b158-4764-4780-c24b-a04a4310f6fe",
        "colab": {
          "base_uri": "https://localhost:8080/",
          "height": 255
        }
      },
      "outputs": [
        {
          "output_type": "display_data",
          "data": {
            "text/plain": [
              "\u001b[1mModel: \"sequential\"\u001b[0m\n"
            ],
            "text/html": [
              "<pre style=\"white-space:pre;overflow-x:auto;line-height:normal;font-family:Menlo,'DejaVu Sans Mono',consolas,'Courier New',monospace\"><span style=\"font-weight: bold\">Model: \"sequential\"</span>\n",
              "</pre>\n"
            ]
          },
          "metadata": {}
        },
        {
          "output_type": "display_data",
          "data": {
            "text/plain": [
              "┏━━━━━━━━━━━━━━━━━━━━━━━━━━━━━━━━━━━━━━┳━━━━━━━━━━━━━━━━━━━━━━━━━━━━━┳━━━━━━━━━━━━━━━━━┓\n",
              "┃\u001b[1m \u001b[0m\u001b[1mLayer (type)                        \u001b[0m\u001b[1m \u001b[0m┃\u001b[1m \u001b[0m\u001b[1mOutput Shape               \u001b[0m\u001b[1m \u001b[0m┃\u001b[1m \u001b[0m\u001b[1m        Param #\u001b[0m\u001b[1m \u001b[0m┃\n",
              "┡━━━━━━━━━━━━━━━━━━━━━━━━━━━━━━━━━━━━━━╇━━━━━━━━━━━━━━━━━━━━━━━━━━━━━╇━━━━━━━━━━━━━━━━━┩\n",
              "│ dense (\u001b[38;5;33mDense\u001b[0m)                        │ (\u001b[38;5;45mNone\u001b[0m, \u001b[38;5;34m16\u001b[0m)                  │              \u001b[38;5;34m32\u001b[0m │\n",
              "├──────────────────────────────────────┼─────────────────────────────┼─────────────────┤\n",
              "│ dense_1 (\u001b[38;5;33mDense\u001b[0m)                      │ (\u001b[38;5;45mNone\u001b[0m, \u001b[38;5;34m32\u001b[0m)                  │             \u001b[38;5;34m544\u001b[0m │\n",
              "├──────────────────────────────────────┼─────────────────────────────┼─────────────────┤\n",
              "│ dense_2 (\u001b[38;5;33mDense\u001b[0m)                      │ (\u001b[38;5;45mNone\u001b[0m, \u001b[38;5;34m2\u001b[0m)                   │              \u001b[38;5;34m66\u001b[0m │\n",
              "└──────────────────────────────────────┴─────────────────────────────┴─────────────────┘\n"
            ],
            "text/html": [
              "<pre style=\"white-space:pre;overflow-x:auto;line-height:normal;font-family:Menlo,'DejaVu Sans Mono',consolas,'Courier New',monospace\">┏━━━━━━━━━━━━━━━━━━━━━━━━━━━━━━━━━━━━━━┳━━━━━━━━━━━━━━━━━━━━━━━━━━━━━┳━━━━━━━━━━━━━━━━━┓\n",
              "┃<span style=\"font-weight: bold\"> Layer (type)                         </span>┃<span style=\"font-weight: bold\"> Output Shape                </span>┃<span style=\"font-weight: bold\">         Param # </span>┃\n",
              "┡━━━━━━━━━━━━━━━━━━━━━━━━━━━━━━━━━━━━━━╇━━━━━━━━━━━━━━━━━━━━━━━━━━━━━╇━━━━━━━━━━━━━━━━━┩\n",
              "│ dense (<span style=\"color: #0087ff; text-decoration-color: #0087ff\">Dense</span>)                        │ (<span style=\"color: #00d7ff; text-decoration-color: #00d7ff\">None</span>, <span style=\"color: #00af00; text-decoration-color: #00af00\">16</span>)                  │              <span style=\"color: #00af00; text-decoration-color: #00af00\">32</span> │\n",
              "├──────────────────────────────────────┼─────────────────────────────┼─────────────────┤\n",
              "│ dense_1 (<span style=\"color: #0087ff; text-decoration-color: #0087ff\">Dense</span>)                      │ (<span style=\"color: #00d7ff; text-decoration-color: #00d7ff\">None</span>, <span style=\"color: #00af00; text-decoration-color: #00af00\">32</span>)                  │             <span style=\"color: #00af00; text-decoration-color: #00af00\">544</span> │\n",
              "├──────────────────────────────────────┼─────────────────────────────┼─────────────────┤\n",
              "│ dense_2 (<span style=\"color: #0087ff; text-decoration-color: #0087ff\">Dense</span>)                      │ (<span style=\"color: #00d7ff; text-decoration-color: #00d7ff\">None</span>, <span style=\"color: #00af00; text-decoration-color: #00af00\">2</span>)                   │              <span style=\"color: #00af00; text-decoration-color: #00af00\">66</span> │\n",
              "└──────────────────────────────────────┴─────────────────────────────┴─────────────────┘\n",
              "</pre>\n"
            ]
          },
          "metadata": {}
        },
        {
          "output_type": "display_data",
          "data": {
            "text/plain": [
              "\u001b[1m Total params: \u001b[0m\u001b[38;5;34m644\u001b[0m (2.52 KB)\n"
            ],
            "text/html": [
              "<pre style=\"white-space:pre;overflow-x:auto;line-height:normal;font-family:Menlo,'DejaVu Sans Mono',consolas,'Courier New',monospace\"><span style=\"font-weight: bold\"> Total params: </span><span style=\"color: #00af00; text-decoration-color: #00af00\">644</span> (2.52 KB)\n",
              "</pre>\n"
            ]
          },
          "metadata": {}
        },
        {
          "output_type": "display_data",
          "data": {
            "text/plain": [
              "\u001b[1m Trainable params: \u001b[0m\u001b[38;5;34m642\u001b[0m (2.51 KB)\n"
            ],
            "text/html": [
              "<pre style=\"white-space:pre;overflow-x:auto;line-height:normal;font-family:Menlo,'DejaVu Sans Mono',consolas,'Courier New',monospace\"><span style=\"font-weight: bold\"> Trainable params: </span><span style=\"color: #00af00; text-decoration-color: #00af00\">642</span> (2.51 KB)\n",
              "</pre>\n"
            ]
          },
          "metadata": {}
        },
        {
          "output_type": "display_data",
          "data": {
            "text/plain": [
              "\u001b[1m Non-trainable params: \u001b[0m\u001b[38;5;34m0\u001b[0m (0.00 B)\n"
            ],
            "text/html": [
              "<pre style=\"white-space:pre;overflow-x:auto;line-height:normal;font-family:Menlo,'DejaVu Sans Mono',consolas,'Courier New',monospace\"><span style=\"font-weight: bold\"> Non-trainable params: </span><span style=\"color: #00af00; text-decoration-color: #00af00\">0</span> (0.00 B)\n",
              "</pre>\n"
            ]
          },
          "metadata": {}
        },
        {
          "output_type": "display_data",
          "data": {
            "text/plain": [
              "\u001b[1m Optimizer params: \u001b[0m\u001b[38;5;34m2\u001b[0m (12.00 B)\n"
            ],
            "text/html": [
              "<pre style=\"white-space:pre;overflow-x:auto;line-height:normal;font-family:Menlo,'DejaVu Sans Mono',consolas,'Courier New',monospace\"><span style=\"font-weight: bold\"> Optimizer params: </span><span style=\"color: #00af00; text-decoration-color: #00af00\">2</span> (12.00 B)\n",
              "</pre>\n"
            ]
          },
          "metadata": {}
        }
      ],
      "execution_count": 29
    },
    {
      "cell_type": "code",
      "source": [
        "# new_model.get_weights()"
      ],
      "metadata": {
        "trusted": true,
        "execution": {
          "iopub.status.busy": "2024-12-25T14:00:05.069287Z",
          "iopub.execute_input": "2024-12-25T14:00:05.069632Z",
          "iopub.status.idle": "2024-12-25T14:00:05.073751Z",
          "shell.execute_reply.started": "2024-12-25T14:00:05.069605Z",
          "shell.execute_reply": "2024-12-25T14:00:05.072673Z"
        },
        "id": "IJKC2V9px7dU"
      },
      "outputs": [],
      "execution_count": 30
    },
    {
      "cell_type": "code",
      "source": [
        "new_model.optimizer"
      ],
      "metadata": {
        "trusted": true,
        "execution": {
          "iopub.status.busy": "2024-12-25T14:00:13.664237Z",
          "iopub.execute_input": "2024-12-25T14:00:13.664611Z",
          "iopub.status.idle": "2024-12-25T14:00:13.670179Z",
          "shell.execute_reply.started": "2024-12-25T14:00:13.664558Z",
          "shell.execute_reply": "2024-12-25T14:00:13.669201Z"
        },
        "id": "QHu0P3YKx7dV",
        "outputId": "12481391-74fd-48e5-896e-7ede8ca2596c",
        "colab": {
          "base_uri": "https://localhost:8080/"
        }
      },
      "outputs": [
        {
          "output_type": "execute_result",
          "data": {
            "text/plain": [
              "<keras.src.optimizers.adam.Adam at 0x790b5216ed10>"
            ]
          },
          "metadata": {},
          "execution_count": 31
        }
      ],
      "execution_count": 31
    },
    {
      "cell_type": "markdown",
      "source": [
        "## 2. model.to_json()"
      ],
      "metadata": {
        "id": "E5xQNX55x7dV"
      }
    },
    {
      "cell_type": "markdown",
      "source": [
        "If we need to save only the architecture of the model without saving its weights or its training configurations, we can use this function to save it."
      ],
      "metadata": {
        "id": "YQ5rHQWHx7dV"
      }
    },
    {
      "cell_type": "code",
      "source": [
        "# save as json\n",
        "json_string = model.to_json()\n",
        "\n",
        "# save as yaml\n",
        "# yaml_string = model.to_yaml()"
      ],
      "metadata": {
        "trusted": true,
        "execution": {
          "iopub.status.busy": "2024-12-25T14:02:59.877674Z",
          "iopub.execute_input": "2024-12-25T14:02:59.878037Z",
          "iopub.status.idle": "2024-12-25T14:02:59.884357Z",
          "shell.execute_reply.started": "2024-12-25T14:02:59.878005Z",
          "shell.execute_reply": "2024-12-25T14:02:59.883105Z"
        },
        "id": "s9dL1cETx7dV"
      },
      "outputs": [],
      "execution_count": 32
    },
    {
      "cell_type": "code",
      "source": [
        "json_string"
      ],
      "metadata": {
        "trusted": true,
        "execution": {
          "iopub.status.busy": "2024-12-25T14:03:11.184157Z",
          "iopub.execute_input": "2024-12-25T14:03:11.184473Z",
          "iopub.status.idle": "2024-12-25T14:03:11.190142Z",
          "shell.execute_reply.started": "2024-12-25T14:03:11.184447Z",
          "shell.execute_reply": "2024-12-25T14:03:11.189171Z"
        },
        "id": "zCA6gRGdx7dW",
        "outputId": "3981bd2f-965c-43d3-f272-e6cab82c0b2b",
        "colab": {
          "base_uri": "https://localhost:8080/",
          "height": 169
        }
      },
      "outputs": [
        {
          "output_type": "execute_result",
          "data": {
            "text/plain": [
              "'{\"module\": \"keras\", \"class_name\": \"Sequential\", \"config\": {\"name\": \"sequential\", \"trainable\": true, \"dtype\": {\"module\": \"keras\", \"class_name\": \"DTypePolicy\", \"config\": {\"name\": \"float32\"}, \"registered_name\": null}, \"layers\": [{\"module\": \"keras.layers\", \"class_name\": \"InputLayer\", \"config\": {\"batch_shape\": [null, 1], \"dtype\": \"float32\", \"sparse\": false, \"name\": \"input_layer\"}, \"registered_name\": null}, {\"module\": \"keras.layers\", \"class_name\": \"Dense\", \"config\": {\"name\": \"dense\", \"trainable\": true, \"dtype\": {\"module\": \"keras\", \"class_name\": \"DTypePolicy\", \"config\": {\"name\": \"float32\"}, \"registered_name\": null}, \"units\": 16, \"activation\": \"relu\", \"use_bias\": true, \"kernel_initializer\": {\"module\": \"keras.initializers\", \"class_name\": \"GlorotUniform\", \"config\": {\"seed\": null}, \"registered_name\": null}, \"bias_initializer\": {\"module\": \"keras.initializers\", \"class_name\": \"Zeros\", \"config\": {}, \"registered_name\": null}, \"kernel_regularizer\": null, \"bias_regularizer\": null, \"kernel_constraint\": null, \"bias_constraint\": null}, \"registered_name\": null, \"build_config\": {\"input_shape\": [null, 1]}}, {\"module\": \"keras.layers\", \"class_name\": \"Dense\", \"config\": {\"name\": \"dense_1\", \"trainable\": true, \"dtype\": {\"module\": \"keras\", \"class_name\": \"DTypePolicy\", \"config\": {\"name\": \"float32\"}, \"registered_name\": null}, \"units\": 32, \"activation\": \"relu\", \"use_bias\": true, \"kernel_initializer\": {\"module\": \"keras.initializers\", \"class_name\": \"GlorotUniform\", \"config\": {\"seed\": null}, \"registered_name\": null}, \"bias_initializer\": {\"module\": \"keras.initializers\", \"class_name\": \"Zeros\", \"config\": {}, \"registered_name\": null}, \"kernel_regularizer\": null, \"bias_regularizer\": null, \"kernel_constraint\": null, \"bias_constraint\": null}, \"registered_name\": null, \"build_config\": {\"input_shape\": [null, 16]}}, {\"module\": \"keras.layers\", \"class_name\": \"Dense\", \"config\": {\"name\": \"dense_2\", \"trainable\": true, \"dtype\": {\"module\": \"keras\", \"class_name\": \"DTypePolicy\", \"config\": {\"name\": \"float32\"}, \"registered_name\": null}, \"units\": 2, \"activation\": \"softmax\", \"use_bias\": true, \"kernel_initializer\": {\"module\": \"keras.initializers\", \"class_name\": \"GlorotUniform\", \"config\": {\"seed\": null}, \"registered_name\": null}, \"bias_initializer\": {\"module\": \"keras.initializers\", \"class_name\": \"Zeros\", \"config\": {}, \"registered_name\": null}, \"kernel_regularizer\": null, \"bias_regularizer\": null, \"kernel_constraint\": null, \"bias_constraint\": null}, \"registered_name\": null, \"build_config\": {\"input_shape\": [null, 32]}}], \"build_input_shape\": [null, 1]}, \"registered_name\": null, \"build_config\": {\"input_shape\": [null, 1]}, \"compile_config\": {\"loss\": \"sparse_categorical_crossentropy\", \"loss_weights\": null, \"metrics\": [\"accuracy\"], \"weighted_metrics\": null, \"run_eagerly\": false, \"steps_per_execution\": 1, \"jit_compile\": false}}'"
            ],
            "application/vnd.google.colaboratory.intrinsic+json": {
              "type": "string"
            }
          },
          "metadata": {},
          "execution_count": 33
        }
      ],
      "execution_count": 33
    },
    {
      "cell_type": "code",
      "source": [
        "from tensorflow.keras.models import model_from_json\n",
        "model_architecture = model_from_json(json_string)"
      ],
      "metadata": {
        "trusted": true,
        "execution": {
          "iopub.status.busy": "2024-12-25T14:04:16.723142Z",
          "iopub.execute_input": "2024-12-25T14:04:16.723468Z",
          "iopub.status.idle": "2024-12-25T14:04:16.772338Z",
          "shell.execute_reply.started": "2024-12-25T14:04:16.723442Z",
          "shell.execute_reply": "2024-12-25T14:04:16.77151Z"
        },
        "id": "jqcioJaNx7dW"
      },
      "outputs": [],
      "execution_count": 34
    },
    {
      "cell_type": "code",
      "source": [
        "model_architecture.summary()"
      ],
      "metadata": {
        "trusted": true,
        "execution": {
          "iopub.status.busy": "2024-12-25T14:04:33.649306Z",
          "iopub.execute_input": "2024-12-25T14:04:33.64969Z",
          "iopub.status.idle": "2024-12-25T14:04:33.669325Z",
          "shell.execute_reply.started": "2024-12-25T14:04:33.649657Z",
          "shell.execute_reply": "2024-12-25T14:04:33.668405Z"
        },
        "id": "oOsku4lEx7dW",
        "outputId": "c489219a-15a8-45a9-c872-46f10c7b0d98",
        "colab": {
          "base_uri": "https://localhost:8080/",
          "height": 255
        }
      },
      "outputs": [
        {
          "output_type": "display_data",
          "data": {
            "text/plain": [
              "\u001b[1mModel: \"sequential\"\u001b[0m\n"
            ],
            "text/html": [
              "<pre style=\"white-space:pre;overflow-x:auto;line-height:normal;font-family:Menlo,'DejaVu Sans Mono',consolas,'Courier New',monospace\"><span style=\"font-weight: bold\">Model: \"sequential\"</span>\n",
              "</pre>\n"
            ]
          },
          "metadata": {}
        },
        {
          "output_type": "display_data",
          "data": {
            "text/plain": [
              "┏━━━━━━━━━━━━━━━━━━━━━━━━━━━━━━━━━━━━━━┳━━━━━━━━━━━━━━━━━━━━━━━━━━━━━┳━━━━━━━━━━━━━━━━━┓\n",
              "┃\u001b[1m \u001b[0m\u001b[1mLayer (type)                        \u001b[0m\u001b[1m \u001b[0m┃\u001b[1m \u001b[0m\u001b[1mOutput Shape               \u001b[0m\u001b[1m \u001b[0m┃\u001b[1m \u001b[0m\u001b[1m        Param #\u001b[0m\u001b[1m \u001b[0m┃\n",
              "┡━━━━━━━━━━━━━━━━━━━━━━━━━━━━━━━━━━━━━━╇━━━━━━━━━━━━━━━━━━━━━━━━━━━━━╇━━━━━━━━━━━━━━━━━┩\n",
              "│ dense (\u001b[38;5;33mDense\u001b[0m)                        │ (\u001b[38;5;45mNone\u001b[0m, \u001b[38;5;34m16\u001b[0m)                  │              \u001b[38;5;34m32\u001b[0m │\n",
              "├──────────────────────────────────────┼─────────────────────────────┼─────────────────┤\n",
              "│ dense_1 (\u001b[38;5;33mDense\u001b[0m)                      │ (\u001b[38;5;45mNone\u001b[0m, \u001b[38;5;34m32\u001b[0m)                  │             \u001b[38;5;34m544\u001b[0m │\n",
              "├──────────────────────────────────────┼─────────────────────────────┼─────────────────┤\n",
              "│ dense_2 (\u001b[38;5;33mDense\u001b[0m)                      │ (\u001b[38;5;45mNone\u001b[0m, \u001b[38;5;34m2\u001b[0m)                   │              \u001b[38;5;34m66\u001b[0m │\n",
              "└──────────────────────────────────────┴─────────────────────────────┴─────────────────┘\n"
            ],
            "text/html": [
              "<pre style=\"white-space:pre;overflow-x:auto;line-height:normal;font-family:Menlo,'DejaVu Sans Mono',consolas,'Courier New',monospace\">┏━━━━━━━━━━━━━━━━━━━━━━━━━━━━━━━━━━━━━━┳━━━━━━━━━━━━━━━━━━━━━━━━━━━━━┳━━━━━━━━━━━━━━━━━┓\n",
              "┃<span style=\"font-weight: bold\"> Layer (type)                         </span>┃<span style=\"font-weight: bold\"> Output Shape                </span>┃<span style=\"font-weight: bold\">         Param # </span>┃\n",
              "┡━━━━━━━━━━━━━━━━━━━━━━━━━━━━━━━━━━━━━━╇━━━━━━━━━━━━━━━━━━━━━━━━━━━━━╇━━━━━━━━━━━━━━━━━┩\n",
              "│ dense (<span style=\"color: #0087ff; text-decoration-color: #0087ff\">Dense</span>)                        │ (<span style=\"color: #00d7ff; text-decoration-color: #00d7ff\">None</span>, <span style=\"color: #00af00; text-decoration-color: #00af00\">16</span>)                  │              <span style=\"color: #00af00; text-decoration-color: #00af00\">32</span> │\n",
              "├──────────────────────────────────────┼─────────────────────────────┼─────────────────┤\n",
              "│ dense_1 (<span style=\"color: #0087ff; text-decoration-color: #0087ff\">Dense</span>)                      │ (<span style=\"color: #00d7ff; text-decoration-color: #00d7ff\">None</span>, <span style=\"color: #00af00; text-decoration-color: #00af00\">32</span>)                  │             <span style=\"color: #00af00; text-decoration-color: #00af00\">544</span> │\n",
              "├──────────────────────────────────────┼─────────────────────────────┼─────────────────┤\n",
              "│ dense_2 (<span style=\"color: #0087ff; text-decoration-color: #0087ff\">Dense</span>)                      │ (<span style=\"color: #00d7ff; text-decoration-color: #00d7ff\">None</span>, <span style=\"color: #00af00; text-decoration-color: #00af00\">2</span>)                   │              <span style=\"color: #00af00; text-decoration-color: #00af00\">66</span> │\n",
              "└──────────────────────────────────────┴─────────────────────────────┴─────────────────┘\n",
              "</pre>\n"
            ]
          },
          "metadata": {}
        },
        {
          "output_type": "display_data",
          "data": {
            "text/plain": [
              "\u001b[1m Total params: \u001b[0m\u001b[38;5;34m1,286\u001b[0m (5.03 KB)\n"
            ],
            "text/html": [
              "<pre style=\"white-space:pre;overflow-x:auto;line-height:normal;font-family:Menlo,'DejaVu Sans Mono',consolas,'Courier New',monospace\"><span style=\"font-weight: bold\"> Total params: </span><span style=\"color: #00af00; text-decoration-color: #00af00\">1,286</span> (5.03 KB)\n",
              "</pre>\n"
            ]
          },
          "metadata": {}
        },
        {
          "output_type": "display_data",
          "data": {
            "text/plain": [
              "\u001b[1m Trainable params: \u001b[0m\u001b[38;5;34m642\u001b[0m (2.51 KB)\n"
            ],
            "text/html": [
              "<pre style=\"white-space:pre;overflow-x:auto;line-height:normal;font-family:Menlo,'DejaVu Sans Mono',consolas,'Courier New',monospace\"><span style=\"font-weight: bold\"> Trainable params: </span><span style=\"color: #00af00; text-decoration-color: #00af00\">642</span> (2.51 KB)\n",
              "</pre>\n"
            ]
          },
          "metadata": {}
        },
        {
          "output_type": "display_data",
          "data": {
            "text/plain": [
              "\u001b[1m Non-trainable params: \u001b[0m\u001b[38;5;34m0\u001b[0m (0.00 B)\n"
            ],
            "text/html": [
              "<pre style=\"white-space:pre;overflow-x:auto;line-height:normal;font-family:Menlo,'DejaVu Sans Mono',consolas,'Courier New',monospace\"><span style=\"font-weight: bold\"> Non-trainable params: </span><span style=\"color: #00af00; text-decoration-color: #00af00\">0</span> (0.00 B)\n",
              "</pre>\n"
            ]
          },
          "metadata": {}
        },
        {
          "output_type": "display_data",
          "data": {
            "text/plain": [
              "\u001b[1m Optimizer params: \u001b[0m\u001b[38;5;34m644\u001b[0m (2.52 KB)\n"
            ],
            "text/html": [
              "<pre style=\"white-space:pre;overflow-x:auto;line-height:normal;font-family:Menlo,'DejaVu Sans Mono',consolas,'Courier New',monospace\"><span style=\"font-weight: bold\"> Optimizer params: </span><span style=\"color: #00af00; text-decoration-color: #00af00\">644</span> (2.52 KB)\n",
              "</pre>\n"
            ]
          },
          "metadata": {}
        }
      ],
      "execution_count": 35
    },
    {
      "cell_type": "markdown",
      "source": [
        "## 3. model.save_weights()"
      ],
      "metadata": {
        "id": "lM1OuIYCx7dW"
      }
    },
    {
      "cell_type": "markdown",
      "source": [
        "If we want to save only the weights of the model, we can use the following function to save the model weights only."
      ],
      "metadata": {
        "id": "BAfxGnMax7dX"
      }
    },
    {
      "cell_type": "code",
      "source": [
        "# import os.path\n",
        "# if os.path.isfile('models/my_model_weights.h5') is False:\n",
        "#     model.save_weights('models/my_model_weights.h5')"
      ],
      "metadata": {
        "trusted": true,
        "execution": {
          "iopub.status.busy": "2024-12-25T14:10:44.512729Z",
          "iopub.execute_input": "2024-12-25T14:10:44.513111Z",
          "iopub.status.idle": "2024-12-25T14:10:44.517052Z",
          "shell.execute_reply.started": "2024-12-25T14:10:44.51306Z",
          "shell.execute_reply": "2024-12-25T14:10:44.515919Z"
        },
        "id": "FFFmgAljx7dX"
      },
      "outputs": [],
      "execution_count": 36
    },
    {
      "cell_type": "code",
      "source": [],
      "metadata": {
        "trusted": true,
        "id": "xYTHe1vJx7dX"
      },
      "outputs": [],
      "execution_count": 36
    }
  ]
}